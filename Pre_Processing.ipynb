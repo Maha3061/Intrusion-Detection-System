{
 "cells": [
  {
   "cell_type": "code",
   "execution_count": 1,
   "metadata": {},
   "outputs": [
    {
     "name": "stderr",
     "output_type": "stream",
     "text": [
      "c:\\ProgramData\\Anaconda3\\lib\\site-packages\\scipy\\__init__.py:155: UserWarning: A NumPy version >=1.18.5 and <1.25.0 is required for this version of SciPy (detected version 1.26.4\n",
      "  warnings.warn(f\"A NumPy version >={np_minversion} and <{np_maxversion}\"\n"
     ]
    }
   ],
   "source": [
    "import pandas as pd\n",
    "import numpy as np\n",
    "from sklearn.preprocessing import StandardScaler as sc"
   ]
  },
  {
   "cell_type": "code",
   "execution_count": 2,
   "metadata": {},
   "outputs": [],
   "source": [
    "db_b=pd.read_csv('benign.csv')\n",
    "db_m=pd.read_csv('malicious.csv')\n"
   ]
  },
  {
   "cell_type": "code",
   "execution_count": 3,
   "metadata": {},
   "outputs": [
    {
     "data": {
      "text/plain": [
       "Index(['SourceIP', 'DestinationIP', 'SourcePort', 'DestinationPort',\n",
       "       'TimeStamp', 'Duration', 'FlowBytesSent', 'FlowSentRate',\n",
       "       'FlowBytesReceived', 'FlowReceivedRate', 'PacketLengthVariance',\n",
       "       'PacketLengthStandardDeviation', 'PacketLengthMean',\n",
       "       'PacketLengthMedian', 'PacketLengthMode', 'PacketLengthSkewFromMedian',\n",
       "       'PacketLengthSkewFromMode', 'PacketLengthCoefficientofVariation',\n",
       "       'PacketTimeVariance', 'PacketTimeStandardDeviation', 'PacketTimeMean',\n",
       "       'PacketTimeMedian', 'PacketTimeMode', 'PacketTimeSkewFromMedian',\n",
       "       'PacketTimeSkewFromMode', 'PacketTimeCoefficientofVariation',\n",
       "       'ResponseTimeTimeVariance', 'ResponseTimeTimeStandardDeviation',\n",
       "       'ResponseTimeTimeMean', 'ResponseTimeTimeMedian',\n",
       "       'ResponseTimeTimeMode', 'ResponseTimeTimeSkewFromMedian',\n",
       "       'ResponseTimeTimeSkewFromMode',\n",
       "       'ResponseTimeTimeCoefficientofVariation', 'Label'],\n",
       "      dtype='object')"
      ]
     },
     "execution_count": 3,
     "metadata": {},
     "output_type": "execute_result"
    }
   ],
   "source": [
    "db_b.columns"
   ]
  },
  {
   "cell_type": "code",
   "execution_count": 4,
   "metadata": {},
   "outputs": [
    {
     "name": "stderr",
     "output_type": "stream",
     "text": [
      "C:\\Users\\lmaha\\AppData\\Local\\Temp\\ipykernel_15652\\4243049833.py:1: FutureWarning: The frame.append method is deprecated and will be removed from pandas in a future version. Use pandas.concat instead.\n",
      "  db=db_b.append(db_m, ignore_index=True)\n"
     ]
    }
   ],
   "source": [
    "db=db_b.append(db_m, ignore_index=True)"
   ]
  },
  {
   "cell_type": "code",
   "execution_count": 5,
   "metadata": {},
   "outputs": [],
   "source": [
    "db.fillna('', inplace=True)"
   ]
  },
  {
   "cell_type": "code",
   "execution_count": 6,
   "metadata": {},
   "outputs": [],
   "source": [
    "db=db.sample(frac=1)"
   ]
  },
  {
   "cell_type": "code",
   "execution_count": 7,
   "metadata": {},
   "outputs": [
    {
     "data": {
      "text/html": [
       "<div>\n",
       "<style scoped>\n",
       "    .dataframe tbody tr th:only-of-type {\n",
       "        vertical-align: middle;\n",
       "    }\n",
       "\n",
       "    .dataframe tbody tr th {\n",
       "        vertical-align: top;\n",
       "    }\n",
       "\n",
       "    .dataframe thead th {\n",
       "        text-align: right;\n",
       "    }\n",
       "</style>\n",
       "<table border=\"1\" class=\"dataframe\">\n",
       "  <thead>\n",
       "    <tr style=\"text-align: right;\">\n",
       "      <th></th>\n",
       "      <th>SourceIP</th>\n",
       "      <th>DestinationIP</th>\n",
       "      <th>SourcePort</th>\n",
       "      <th>DestinationPort</th>\n",
       "      <th>TimeStamp</th>\n",
       "      <th>Duration</th>\n",
       "      <th>FlowBytesSent</th>\n",
       "      <th>FlowSentRate</th>\n",
       "      <th>FlowBytesReceived</th>\n",
       "      <th>FlowReceivedRate</th>\n",
       "      <th>...</th>\n",
       "      <th>PacketTimeCoefficientofVariation</th>\n",
       "      <th>ResponseTimeTimeVariance</th>\n",
       "      <th>ResponseTimeTimeStandardDeviation</th>\n",
       "      <th>ResponseTimeTimeMean</th>\n",
       "      <th>ResponseTimeTimeMedian</th>\n",
       "      <th>ResponseTimeTimeMode</th>\n",
       "      <th>ResponseTimeTimeSkewFromMedian</th>\n",
       "      <th>ResponseTimeTimeSkewFromMode</th>\n",
       "      <th>ResponseTimeTimeCoefficientofVariation</th>\n",
       "      <th>Label</th>\n",
       "    </tr>\n",
       "  </thead>\n",
       "  <tbody>\n",
       "    <tr>\n",
       "      <th>136084</th>\n",
       "      <td>192.168.20.206</td>\n",
       "      <td>176.103.130.130</td>\n",
       "      <td>55872</td>\n",
       "      <td>443</td>\n",
       "      <td>2020-04-01 07:44:24</td>\n",
       "      <td>122.834600</td>\n",
       "      <td>31112</td>\n",
       "      <td>253.283684</td>\n",
       "      <td>44775</td>\n",
       "      <td>364.514559</td>\n",
       "      <td>...</td>\n",
       "      <td>0.479339</td>\n",
       "      <td>0.325683</td>\n",
       "      <td>0.570686</td>\n",
       "      <td>0.267983</td>\n",
       "      <td>0.026509</td>\n",
       "      <td>0.000011</td>\n",
       "      <td>1.269388</td>\n",
       "      <td>0.469560</td>\n",
       "      <td>2.129565</td>\n",
       "      <td>Malicious</td>\n",
       "    </tr>\n",
       "    <tr>\n",
       "      <th>68199</th>\n",
       "      <td>192.168.20.204</td>\n",
       "      <td>9.9.9.11</td>\n",
       "      <td>47116</td>\n",
       "      <td>443</td>\n",
       "      <td>2020-03-31 08:43:16</td>\n",
       "      <td>3.582399</td>\n",
       "      <td>1578</td>\n",
       "      <td>440.486947</td>\n",
       "      <td>4617</td>\n",
       "      <td>1288.801164</td>\n",
       "      <td>...</td>\n",
       "      <td>2.885744</td>\n",
       "      <td>0.000053</td>\n",
       "      <td>0.007274</td>\n",
       "      <td>0.010300</td>\n",
       "      <td>0.015338</td>\n",
       "      <td>0.000005</td>\n",
       "      <td>-2.077859</td>\n",
       "      <td>1.415278</td>\n",
       "      <td>0.706232</td>\n",
       "      <td>Malicious</td>\n",
       "    </tr>\n",
       "    <tr>\n",
       "      <th>130363</th>\n",
       "      <td>192.168.20.144</td>\n",
       "      <td>9.9.9.11</td>\n",
       "      <td>42224</td>\n",
       "      <td>443</td>\n",
       "      <td>2020-03-31 16:51:09</td>\n",
       "      <td>0.629387</td>\n",
       "      <td>1153</td>\n",
       "      <td>1831.941238</td>\n",
       "      <td>4169</td>\n",
       "      <td>6623.905483</td>\n",
       "      <td>...</td>\n",
       "      <td>0.902772</td>\n",
       "      <td>0.000157</td>\n",
       "      <td>0.012510</td>\n",
       "      <td>0.010304</td>\n",
       "      <td>0.000117</td>\n",
       "      <td>0.000003</td>\n",
       "      <td>2.442958</td>\n",
       "      <td>0.823432</td>\n",
       "      <td>1.214076</td>\n",
       "      <td>Malicious</td>\n",
       "    </tr>\n",
       "    <tr>\n",
       "      <th>162427</th>\n",
       "      <td>192.168.20.212</td>\n",
       "      <td>9.9.9.11</td>\n",
       "      <td>36048</td>\n",
       "      <td>443</td>\n",
       "      <td>2020-03-31 19:56:16</td>\n",
       "      <td>33.406688</td>\n",
       "      <td>1875</td>\n",
       "      <td>56.126486</td>\n",
       "      <td>4963</td>\n",
       "      <td>148.563066</td>\n",
       "      <td>...</td>\n",
       "      <td>1.714596</td>\n",
       "      <td>0.000056</td>\n",
       "      <td>0.007488</td>\n",
       "      <td>0.009265</td>\n",
       "      <td>0.015238</td>\n",
       "      <td>0.000005</td>\n",
       "      <td>-2.392752</td>\n",
       "      <td>1.236673</td>\n",
       "      <td>0.808185</td>\n",
       "      <td>Malicious</td>\n",
       "    </tr>\n",
       "    <tr>\n",
       "      <th>197377</th>\n",
       "      <td>192.168.20.144</td>\n",
       "      <td>9.9.9.11</td>\n",
       "      <td>60162</td>\n",
       "      <td>443</td>\n",
       "      <td>2020-03-31 18:44:03</td>\n",
       "      <td>35.075868</td>\n",
       "      <td>3351</td>\n",
       "      <td>95.535768</td>\n",
       "      <td>5937</td>\n",
       "      <td>169.261670</td>\n",
       "      <td>...</td>\n",
       "      <td>1.624026</td>\n",
       "      <td>0.000406</td>\n",
       "      <td>0.020157</td>\n",
       "      <td>0.012165</td>\n",
       "      <td>0.000232</td>\n",
       "      <td>0.000007</td>\n",
       "      <td>1.775986</td>\n",
       "      <td>0.603158</td>\n",
       "      <td>1.656987</td>\n",
       "      <td>Malicious</td>\n",
       "    </tr>\n",
       "  </tbody>\n",
       "</table>\n",
       "<p>5 rows × 35 columns</p>\n",
       "</div>"
      ],
      "text/plain": [
       "              SourceIP    DestinationIP  SourcePort  DestinationPort  \\\n",
       "136084  192.168.20.206  176.103.130.130       55872              443   \n",
       "68199   192.168.20.204         9.9.9.11       47116              443   \n",
       "130363  192.168.20.144         9.9.9.11       42224              443   \n",
       "162427  192.168.20.212         9.9.9.11       36048              443   \n",
       "197377  192.168.20.144         9.9.9.11       60162              443   \n",
       "\n",
       "                  TimeStamp    Duration  FlowBytesSent  FlowSentRate  \\\n",
       "136084  2020-04-01 07:44:24  122.834600          31112    253.283684   \n",
       "68199   2020-03-31 08:43:16    3.582399           1578    440.486947   \n",
       "130363  2020-03-31 16:51:09    0.629387           1153   1831.941238   \n",
       "162427  2020-03-31 19:56:16   33.406688           1875     56.126486   \n",
       "197377  2020-03-31 18:44:03   35.075868           3351     95.535768   \n",
       "\n",
       "        FlowBytesReceived  FlowReceivedRate  ...  \\\n",
       "136084              44775        364.514559  ...   \n",
       "68199                4617       1288.801164  ...   \n",
       "130363               4169       6623.905483  ...   \n",
       "162427               4963        148.563066  ...   \n",
       "197377               5937        169.261670  ...   \n",
       "\n",
       "        PacketTimeCoefficientofVariation  ResponseTimeTimeVariance  \\\n",
       "136084                          0.479339                  0.325683   \n",
       "68199                           2.885744                  0.000053   \n",
       "130363                          0.902772                  0.000157   \n",
       "162427                          1.714596                  0.000056   \n",
       "197377                          1.624026                  0.000406   \n",
       "\n",
       "        ResponseTimeTimeStandardDeviation  ResponseTimeTimeMean  \\\n",
       "136084                           0.570686              0.267983   \n",
       "68199                            0.007274              0.010300   \n",
       "130363                           0.012510              0.010304   \n",
       "162427                           0.007488              0.009265   \n",
       "197377                           0.020157              0.012165   \n",
       "\n",
       "        ResponseTimeTimeMedian  ResponseTimeTimeMode  \\\n",
       "136084                0.026509              0.000011   \n",
       "68199                 0.015338              0.000005   \n",
       "130363                0.000117              0.000003   \n",
       "162427                0.015238              0.000005   \n",
       "197377                0.000232              0.000007   \n",
       "\n",
       "        ResponseTimeTimeSkewFromMedian  ResponseTimeTimeSkewFromMode  \\\n",
       "136084                        1.269388                      0.469560   \n",
       "68199                        -2.077859                      1.415278   \n",
       "130363                        2.442958                      0.823432   \n",
       "162427                       -2.392752                      1.236673   \n",
       "197377                        1.775986                      0.603158   \n",
       "\n",
       "        ResponseTimeTimeCoefficientofVariation      Label  \n",
       "136084                                2.129565  Malicious  \n",
       "68199                                 0.706232  Malicious  \n",
       "130363                                1.214076  Malicious  \n",
       "162427                                0.808185  Malicious  \n",
       "197377                                1.656987  Malicious  \n",
       "\n",
       "[5 rows x 35 columns]"
      ]
     },
     "execution_count": 7,
     "metadata": {},
     "output_type": "execute_result"
    }
   ],
   "source": [
    "db.head()"
   ]
  },
  {
   "cell_type": "code",
   "execution_count": 8,
   "metadata": {},
   "outputs": [],
   "source": [
    "db.to_csv('datase_db.csv')"
   ]
  },
  {
   "cell_type": "code",
   "execution_count": 9,
   "metadata": {},
   "outputs": [
    {
     "data": {
      "text/plain": [
       "(19807, 35)"
      ]
     },
     "execution_count": 9,
     "metadata": {},
     "output_type": "execute_result"
    }
   ],
   "source": [
    "db_b.shape"
   ]
  },
  {
   "cell_type": "code",
   "execution_count": 10,
   "metadata": {},
   "outputs": [
    {
     "data": {
      "text/plain": [
       "(249836, 35)"
      ]
     },
     "execution_count": 10,
     "metadata": {},
     "output_type": "execute_result"
    }
   ],
   "source": [
    "db_m.shape"
   ]
  },
  {
   "cell_type": "code",
   "execution_count": 11,
   "metadata": {},
   "outputs": [
    {
     "data": {
      "text/plain": [
       "(269643, 35)"
      ]
     },
     "execution_count": 11,
     "metadata": {},
     "output_type": "execute_result"
    }
   ],
   "source": [
    "db.shape"
   ]
  },
  {
   "cell_type": "code",
   "execution_count": 12,
   "metadata": {},
   "outputs": [
    {
     "data": {
      "text/plain": [
       "192.168.20.144     63876\n",
       "192.168.20.204     24239\n",
       "1.1.1.1            17593\n",
       "8.8.4.4            16027\n",
       "192.168.20.205     14772\n",
       "192.168.20.207     14601\n",
       "192.168.20.206     14521\n",
       "192.168.20.208     14461\n",
       "192.168.20.209     14454\n",
       "192.168.20.211     14209\n",
       "192.168.20.210     14130\n",
       "192.168.20.212     13488\n",
       "192.168.20.111     10982\n",
       "176.103.130.130     8705\n",
       "9.9.9.11            5760\n",
       "192.168.20.191      3402\n",
       "192.168.20.113      2132\n",
       "8.8.8.8             1338\n",
       "192.168.20.112       890\n",
       "9.9.9.9               48\n",
       "176.103.130.131       15\n",
       "Name: SourceIP, dtype: int64"
      ]
     },
     "execution_count": 12,
     "metadata": {},
     "output_type": "execute_result"
    }
   ],
   "source": [
    "db['SourceIP'].value_counts()"
   ]
  },
  {
   "cell_type": "code",
   "execution_count": 13,
   "metadata": {},
   "outputs": [],
   "source": [
    "freq=['192.168.20.144','192.168.20.204','1.1.1.1','8.8.4.4','192.168.20.205','192.168.20.207']"
   ]
  },
  {
   "cell_type": "code",
   "execution_count": 14,
   "metadata": {},
   "outputs": [
    {
     "name": "stderr",
     "output_type": "stream",
     "text": [
      "C:\\Users\\lmaha\\AppData\\Local\\Temp\\ipykernel_15652\\2050499730.py:3: SettingWithCopyWarning: \n",
      "A value is trying to be set on a copy of a slice from a DataFrame\n",
      "\n",
      "See the caveats in the documentation: https://pandas.pydata.org/pandas-docs/stable/user_guide/indexing.html#returning-a-view-versus-a-copy\n",
      "  db['SourceIP'][i]='not_freq'\n"
     ]
    }
   ],
   "source": [
    "for i in range (0,len(db)):\n",
    "    if(db['SourceIP'][i] not in freq):\n",
    "        db['SourceIP'][i]='not_freq'\n",
    "ip_dummies = pd.get_dummies(db['SourceIP'])\n",
    "ip_dummies = ip_dummies.rename(columns = {\"192.168.20.144\":\"ip_144\",\"192.168.20.204\":\"ip_204\",\"1.1.1.1\":\"ip_1\",\"8.8.4.4\":\"ip_8\", \"192.168.20.205\":\"ip_205\", \"192.168.20.207\":\"ip_207\"})"
   ]
  },
  {
   "cell_type": "code",
   "execution_count": 15,
   "metadata": {},
   "outputs": [
    {
     "data": {
      "text/html": [
       "<div>\n",
       "<style scoped>\n",
       "    .dataframe tbody tr th:only-of-type {\n",
       "        vertical-align: middle;\n",
       "    }\n",
       "\n",
       "    .dataframe tbody tr th {\n",
       "        vertical-align: top;\n",
       "    }\n",
       "\n",
       "    .dataframe thead th {\n",
       "        text-align: right;\n",
       "    }\n",
       "</style>\n",
       "<table border=\"1\" class=\"dataframe\">\n",
       "  <thead>\n",
       "    <tr style=\"text-align: right;\">\n",
       "      <th></th>\n",
       "      <th>ip_1</th>\n",
       "      <th>ip_144</th>\n",
       "      <th>ip_204</th>\n",
       "      <th>ip_205</th>\n",
       "      <th>ip_207</th>\n",
       "      <th>ip_8</th>\n",
       "      <th>not_freq</th>\n",
       "    </tr>\n",
       "  </thead>\n",
       "  <tbody>\n",
       "    <tr>\n",
       "      <th>136084</th>\n",
       "      <td>0</td>\n",
       "      <td>0</td>\n",
       "      <td>0</td>\n",
       "      <td>0</td>\n",
       "      <td>0</td>\n",
       "      <td>0</td>\n",
       "      <td>1</td>\n",
       "    </tr>\n",
       "    <tr>\n",
       "      <th>68199</th>\n",
       "      <td>0</td>\n",
       "      <td>0</td>\n",
       "      <td>1</td>\n",
       "      <td>0</td>\n",
       "      <td>0</td>\n",
       "      <td>0</td>\n",
       "      <td>0</td>\n",
       "    </tr>\n",
       "    <tr>\n",
       "      <th>130363</th>\n",
       "      <td>0</td>\n",
       "      <td>1</td>\n",
       "      <td>0</td>\n",
       "      <td>0</td>\n",
       "      <td>0</td>\n",
       "      <td>0</td>\n",
       "      <td>0</td>\n",
       "    </tr>\n",
       "    <tr>\n",
       "      <th>162427</th>\n",
       "      <td>0</td>\n",
       "      <td>0</td>\n",
       "      <td>0</td>\n",
       "      <td>0</td>\n",
       "      <td>0</td>\n",
       "      <td>0</td>\n",
       "      <td>1</td>\n",
       "    </tr>\n",
       "    <tr>\n",
       "      <th>197377</th>\n",
       "      <td>0</td>\n",
       "      <td>1</td>\n",
       "      <td>0</td>\n",
       "      <td>0</td>\n",
       "      <td>0</td>\n",
       "      <td>0</td>\n",
       "      <td>0</td>\n",
       "    </tr>\n",
       "  </tbody>\n",
       "</table>\n",
       "</div>"
      ],
      "text/plain": [
       "        ip_1  ip_144  ip_204  ip_205  ip_207  ip_8  not_freq\n",
       "136084     0       0       0       0       0     0         1\n",
       "68199      0       0       1       0       0     0         0\n",
       "130363     0       1       0       0       0     0         0\n",
       "162427     0       0       0       0       0     0         1\n",
       "197377     0       1       0       0       0     0         0"
      ]
     },
     "execution_count": 15,
     "metadata": {},
     "output_type": "execute_result"
    }
   ],
   "source": [
    "ip_dummies.head()"
   ]
  },
  {
   "cell_type": "code",
   "execution_count": 16,
   "metadata": {},
   "outputs": [],
   "source": [
    "db_create=ip_dummies"
   ]
  },
  {
   "cell_type": "code",
   "execution_count": 17,
   "metadata": {},
   "outputs": [
    {
     "data": {
      "text/plain": [
       "9.9.9.11           150932\n",
       "8.8.4.4             26044\n",
       "176.103.130.130     16290\n",
       "1.1.1.1             13633\n",
       "8.8.8.8             10177\n",
       "192.168.20.144       9855\n",
       "192.168.20.206       4536\n",
       "192.168.20.205       4461\n",
       "192.168.20.204       4457\n",
       "192.168.20.207       4322\n",
       "192.168.20.208       4011\n",
       "192.168.20.211       3944\n",
       "192.168.20.209       3942\n",
       "192.168.20.210       3870\n",
       "192.168.20.212       3687\n",
       "9.9.9.9              2947\n",
       "192.168.20.111       1353\n",
       "192.168.20.113        459\n",
       "192.168.20.112        457\n",
       "176.103.130.131       134\n",
       "192.168.20.191        132\n",
       "Name: DestinationIP, dtype: int64"
      ]
     },
     "execution_count": 17,
     "metadata": {},
     "output_type": "execute_result"
    }
   ],
   "source": [
    "db['DestinationIP'].value_counts()"
   ]
  },
  {
   "cell_type": "code",
   "execution_count": 18,
   "metadata": {},
   "outputs": [],
   "source": [
    "freq_dest=['9.9.9.11', '8.8.4.4']"
   ]
  },
  {
   "cell_type": "code",
   "execution_count": 19,
   "metadata": {},
   "outputs": [],
   "source": [
    "freq_dest_2=['176.103.130.130', '1.1.1.1','8.8.8.8']"
   ]
  },
  {
   "cell_type": "code",
   "execution_count": 20,
   "metadata": {},
   "outputs": [
    {
     "name": "stderr",
     "output_type": "stream",
     "text": [
      "C:\\Users\\lmaha\\AppData\\Local\\Temp\\ipykernel_15652\\2601982747.py:5: SettingWithCopyWarning: \n",
      "A value is trying to be set on a copy of a slice from a DataFrame\n",
      "\n",
      "See the caveats in the documentation: https://pandas.pydata.org/pandas-docs/stable/user_guide/indexing.html#returning-a-view-versus-a-copy\n",
      "  db['DestinationIP'][i] = 'not_dest_freq'\n",
      "C:\\Users\\lmaha\\AppData\\Local\\Temp\\ipykernel_15652\\2601982747.py:3: SettingWithCopyWarning: \n",
      "A value is trying to be set on a copy of a slice from a DataFrame\n",
      "\n",
      "See the caveats in the documentation: https://pandas.pydata.org/pandas-docs/stable/user_guide/indexing.html#returning-a-view-versus-a-copy\n",
      "  db['DestinationIP'][i] = 'dest_ip_130_1_8'\n"
     ]
    }
   ],
   "source": [
    "for i in range (0,len(db)):\n",
    "    if(db['DestinationIP'][i]  in freq_dest_2):\n",
    "        db['DestinationIP'][i] = 'dest_ip_130_1_8'\n",
    "    elif(db['DestinationIP'][i] not in freq_dest):\n",
    "        db['DestinationIP'][i] = 'not_dest_freq'\n"
   ]
  },
  {
   "cell_type": "code",
   "execution_count": 21,
   "metadata": {},
   "outputs": [],
   "source": [
    "destination_dummy=pd.get_dummies(db['DestinationIP'])"
   ]
  },
  {
   "cell_type": "code",
   "execution_count": 22,
   "metadata": {},
   "outputs": [],
   "source": [
    "destination_dummy = destination_dummy.rename(columns = {\"9.9.9.11\":\"ip_11\",\"8.8.4.4\":\"ip_4\"})"
   ]
  },
  {
   "cell_type": "code",
   "execution_count": 23,
   "metadata": {},
   "outputs": [],
   "source": [
    "db_create=pd.concat([db_create,destination_dummy], axis = 1)"
   ]
  },
  {
   "cell_type": "code",
   "execution_count": 24,
   "metadata": {},
   "outputs": [
    {
     "data": {
      "text/plain": [
       "443      49486\n",
       "58759       73\n",
       "41618       60\n",
       "44886       60\n",
       "40378       53\n",
       "         ...  \n",
       "62078        1\n",
       "49667        1\n",
       "65031        1\n",
       "50945        1\n",
       "51145        1\n",
       "Name: SourcePort, Length: 15446, dtype: int64"
      ]
     },
     "execution_count": 24,
     "metadata": {},
     "output_type": "execute_result"
    }
   ],
   "source": [
    "db['SourcePort'].value_counts()"
   ]
  },
  {
   "cell_type": "code",
   "execution_count": 25,
   "metadata": {},
   "outputs": [
    {
     "name": "stderr",
     "output_type": "stream",
     "text": [
      "C:\\Users\\lmaha\\AppData\\Local\\Temp\\ipykernel_15652\\2389956845.py:3: SettingWithCopyWarning: \n",
      "A value is trying to be set on a copy of a slice from a DataFrame\n",
      "\n",
      "See the caveats in the documentation: https://pandas.pydata.org/pandas-docs/stable/user_guide/indexing.html#returning-a-view-versus-a-copy\n",
      "  db['SourcePort'][i] = 'Wrong_port'\n"
     ]
    }
   ],
   "source": [
    "for i in range (0,len(db)):\n",
    "    if(db['SourcePort'][i] != 443):\n",
    "        db['SourcePort'][i] = 'Wrong_port'\n",
    "    else:\n",
    "        db['SourcePort'][i] = 'port_is_443'\n"
   ]
  },
  {
   "cell_type": "code",
   "execution_count": 26,
   "metadata": {},
   "outputs": [
    {
     "name": "stderr",
     "output_type": "stream",
     "text": [
      "C:\\Users\\lmaha\\AppData\\Local\\Temp\\ipykernel_15652\\2614069197.py:5: SettingWithCopyWarning: \n",
      "A value is trying to be set on a copy of a slice from a DataFrame\n",
      "\n",
      "See the caveats in the documentation: https://pandas.pydata.org/pandas-docs/stable/user_guide/indexing.html#returning-a-view-versus-a-copy\n",
      "  db['DestinationPort'][i] = 'port_443'\n"
     ]
    }
   ],
   "source": [
    "for i in range (0,len(db)):        \n",
    "    if(db['DestinationPort'][i] != 443):\n",
    "        db['DestinationPort'][i] = 'Wrong_port'\n",
    "    else:\n",
    "        db['DestinationPort'][i] = 'port_443'"
   ]
  },
  {
   "cell_type": "code",
   "execution_count": 27,
   "metadata": {},
   "outputs": [],
   "source": [
    "source_port_dummy = pd.get_dummies(db['SourcePort'])"
   ]
  },
  {
   "cell_type": "code",
   "execution_count": 28,
   "metadata": {},
   "outputs": [],
   "source": [
    "destination_port_dummy = pd.get_dummies(db['DestinationPort'])"
   ]
  },
  {
   "cell_type": "code",
   "execution_count": 29,
   "metadata": {},
   "outputs": [],
   "source": [
    "destination_port_dummy = destination_port_dummy.rename(columns = {\"port_443\":\"destination_port_443\"})"
   ]
  },
  {
   "cell_type": "code",
   "execution_count": 30,
   "metadata": {},
   "outputs": [],
   "source": [
    "db_create = pd.concat([db_create,source_port_dummy],axis=1)\n",
    "db_create = pd.concat([db_create,destination_port_dummy],axis=1)"
   ]
  },
  {
   "cell_type": "code",
   "execution_count": 31,
   "metadata": {},
   "outputs": [],
   "source": [
    "from sklearn.preprocessing import StandardScaler as sc"
   ]
  },
  {
   "cell_type": "code",
   "execution_count": 32,
   "metadata": {},
   "outputs": [],
   "source": [
    "from sklearn.preprocessing import StandardScaler"
   ]
  },
  {
   "cell_type": "code",
   "execution_count": 33,
   "metadata": {},
   "outputs": [],
   "source": [
    "sc=StandardScaler()"
   ]
  },
  {
   "cell_type": "code",
   "execution_count": 34,
   "metadata": {},
   "outputs": [],
   "source": [
    "drn_db = db[[\"Duration\"]]\n",
    "drn_db = sc.fit_transform(drn_db)\n",
    "drn_db = pd.DataFrame(drn_db)"
   ]
  },
  {
   "cell_type": "code",
   "execution_count": 35,
   "metadata": {},
   "outputs": [],
   "source": [
    "drn_db = drn_db.rename(columns = {0:\"Duration\"})"
   ]
  },
  {
   "cell_type": "code",
   "execution_count": 36,
   "metadata": {},
   "outputs": [],
   "source": [
    "db_create = pd.concat([db_create,drn_db],axis=1)"
   ]
  },
  {
   "cell_type": "code",
   "execution_count": 37,
   "metadata": {},
   "outputs": [
    {
     "data": {
      "text/plain": [
       "1807      44384\n",
       "1875      15189\n",
       "1806       7627\n",
       "1085       7474\n",
       "1739       7471\n",
       "          ...  \n",
       "801724        1\n",
       "46221         1\n",
       "557424        1\n",
       "133021        1\n",
       "922068        1\n",
       "Name: FlowBytesSent, Length: 72805, dtype: int64"
      ]
     },
     "execution_count": 37,
     "metadata": {},
     "output_type": "execute_result"
    }
   ],
   "source": [
    "db['FlowBytesSent'].value_counts()"
   ]
  },
  {
   "cell_type": "code",
   "execution_count": 38,
   "metadata": {},
   "outputs": [],
   "source": [
    "fs = db[['FlowBytesSent']]"
   ]
  },
  {
   "cell_type": "code",
   "execution_count": 39,
   "metadata": {},
   "outputs": [
    {
     "data": {
      "text/plain": [
       "FlowBytesSent    65757.889977\n",
       "dtype: float64"
      ]
     },
     "execution_count": 39,
     "metadata": {},
     "output_type": "execute_result"
    }
   ],
   "source": [
    "fs.mean()"
   ]
  },
  {
   "cell_type": "code",
   "execution_count": 40,
   "metadata": {},
   "outputs": [
    {
     "data": {
      "text/plain": [
       "FlowBytesSent    1807.0\n",
       "dtype: float64"
      ]
     },
     "execution_count": 40,
     "metadata": {},
     "output_type": "execute_result"
    }
   ],
   "source": [
    "fs.median()"
   ]
  },
  {
   "cell_type": "code",
   "execution_count": 41,
   "metadata": {},
   "outputs": [
    {
     "data": {
      "text/html": [
       "<div>\n",
       "<style scoped>\n",
       "    .dataframe tbody tr th:only-of-type {\n",
       "        vertical-align: middle;\n",
       "    }\n",
       "\n",
       "    .dataframe tbody tr th {\n",
       "        vertical-align: top;\n",
       "    }\n",
       "\n",
       "    .dataframe thead th {\n",
       "        text-align: right;\n",
       "    }\n",
       "</style>\n",
       "<table border=\"1\" class=\"dataframe\">\n",
       "  <thead>\n",
       "    <tr style=\"text-align: right;\">\n",
       "      <th></th>\n",
       "      <th>FlowBytesSent</th>\n",
       "    </tr>\n",
       "  </thead>\n",
       "  <tbody>\n",
       "    <tr>\n",
       "      <th>0</th>\n",
       "      <td>1807</td>\n",
       "    </tr>\n",
       "  </tbody>\n",
       "</table>\n",
       "</div>"
      ],
      "text/plain": [
       "   FlowBytesSent\n",
       "0           1807"
      ]
     },
     "execution_count": 41,
     "metadata": {},
     "output_type": "execute_result"
    }
   ],
   "source": [
    "fs.mode()"
   ]
  },
  {
   "cell_type": "code",
   "execution_count": 42,
   "metadata": {},
   "outputs": [
    {
     "name": "stderr",
     "output_type": "stream",
     "text": [
      "C:\\Users\\lmaha\\AppData\\Local\\Temp\\ipykernel_15652\\88205198.py:5: SettingWithCopyWarning: \n",
      "A value is trying to be set on a copy of a slice from a DataFrame\n",
      "\n",
      "See the caveats in the documentation: https://pandas.pydata.org/pandas-docs/stable/user_guide/indexing.html#returning-a-view-versus-a-copy\n",
      "  db['FlowBytesSent'][i] = 'fsless'\n"
     ]
    }
   ],
   "source": [
    "for i in range (0,len(db)):\n",
    "    if(db['FlowBytesSent'][i] == 1807):\n",
    "        db['FlowBytesSent'][i] = 'fs_1807'\n",
    "    elif(db['FlowBytesSent'][i] >= 1810):\n",
    "        db['FlowBytesSent'][i] = 'fsless'\n",
    "    else:\n",
    "        db['FlowBytesSent'][i] = 'fs_more'"
   ]
  },
  {
   "cell_type": "code",
   "execution_count": 43,
   "metadata": {},
   "outputs": [],
   "source": [
    "fs_dummy = pd.get_dummies(db['FlowBytesSent'])"
   ]
  },
  {
   "cell_type": "code",
   "execution_count": 44,
   "metadata": {},
   "outputs": [
    {
     "data": {
      "text/html": [
       "<div>\n",
       "<style scoped>\n",
       "    .dataframe tbody tr th:only-of-type {\n",
       "        vertical-align: middle;\n",
       "    }\n",
       "\n",
       "    .dataframe tbody tr th {\n",
       "        vertical-align: top;\n",
       "    }\n",
       "\n",
       "    .dataframe thead th {\n",
       "        text-align: right;\n",
       "    }\n",
       "</style>\n",
       "<table border=\"1\" class=\"dataframe\">\n",
       "  <thead>\n",
       "    <tr style=\"text-align: right;\">\n",
       "      <th></th>\n",
       "      <th>Wrong_port</th>\n",
       "      <th>destination_port_443</th>\n",
       "    </tr>\n",
       "  </thead>\n",
       "  <tbody>\n",
       "    <tr>\n",
       "      <th>136084</th>\n",
       "      <td>0</td>\n",
       "      <td>1</td>\n",
       "    </tr>\n",
       "    <tr>\n",
       "      <th>68199</th>\n",
       "      <td>0</td>\n",
       "      <td>1</td>\n",
       "    </tr>\n",
       "    <tr>\n",
       "      <th>130363</th>\n",
       "      <td>0</td>\n",
       "      <td>1</td>\n",
       "    </tr>\n",
       "    <tr>\n",
       "      <th>162427</th>\n",
       "      <td>0</td>\n",
       "      <td>1</td>\n",
       "    </tr>\n",
       "    <tr>\n",
       "      <th>197377</th>\n",
       "      <td>0</td>\n",
       "      <td>1</td>\n",
       "    </tr>\n",
       "  </tbody>\n",
       "</table>\n",
       "</div>"
      ],
      "text/plain": [
       "        Wrong_port  destination_port_443\n",
       "136084           0                     1\n",
       "68199            0                     1\n",
       "130363           0                     1\n",
       "162427           0                     1\n",
       "197377           0                     1"
      ]
     },
     "execution_count": 44,
     "metadata": {},
     "output_type": "execute_result"
    }
   ],
   "source": [
    "destination_port_dummy.head()"
   ]
  },
  {
   "cell_type": "code",
   "execution_count": 45,
   "metadata": {},
   "outputs": [],
   "source": [
    "db_create = pd.concat([db_create,fs_dummy],axis=1)"
   ]
  },
  {
   "cell_type": "code",
   "execution_count": 46,
   "metadata": {},
   "outputs": [],
   "source": [
    "fs_r = db[[\"FlowSentRate\"]]\n"
   ]
  },
  {
   "cell_type": "code",
   "execution_count": 47,
   "metadata": {},
   "outputs": [],
   "source": [
    "fs_r = sc.fit_transform(fs_r)\n"
   ]
  },
  {
   "cell_type": "code",
   "execution_count": 48,
   "metadata": {},
   "outputs": [],
   "source": [
    "fs_r = pd.DataFrame(fs_r)"
   ]
  },
  {
   "cell_type": "code",
   "execution_count": 49,
   "metadata": {},
   "outputs": [],
   "source": [
    "fs_r = fs_r.rename(columns = {0:\"FlowSentRate\"})\n"
   ]
  },
  {
   "cell_type": "code",
   "execution_count": 50,
   "metadata": {},
   "outputs": [],
   "source": [
    "db_create = pd.concat([db_create,fs_r],axis=1)"
   ]
  },
  {
   "cell_type": "code",
   "execution_count": 51,
   "metadata": {},
   "outputs": [
    {
     "name": "stderr",
     "output_type": "stream",
     "text": [
      "C:\\Users\\lmaha\\AppData\\Local\\Temp\\ipykernel_15652\\1876215941.py:1: SettingWithCopyWarning: \n",
      "A value is trying to be set on a copy of a slice from a DataFrame\n",
      "\n",
      "See the caveats in the documentation: https://pandas.pydata.org/pandas-docs/stable/user_guide/indexing.html#returning-a-view-versus-a-copy\n",
      "  db[\"FlowBytesReceived\"][115] = 0\n"
     ]
    }
   ],
   "source": [
    "db[\"FlowBytesReceived\"][115] = 0"
   ]
  },
  {
   "cell_type": "code",
   "execution_count": 52,
   "metadata": {},
   "outputs": [],
   "source": [
    "frec = db[['FlowBytesReceived']]"
   ]
  },
  {
   "cell_type": "code",
   "execution_count": 53,
   "metadata": {},
   "outputs": [
    {
     "data": {
      "text/plain": [
       "FlowBytesReceived    67362.488946\n",
       "dtype: float64"
      ]
     },
     "execution_count": 53,
     "metadata": {},
     "output_type": "execute_result"
    }
   ],
   "source": [
    "frec.mean()"
   ]
  },
  {
   "cell_type": "code",
   "execution_count": 54,
   "metadata": {},
   "outputs": [
    {
     "data": {
      "text/plain": [
       "FlowBytesReceived    4896.0\n",
       "dtype: float64"
      ]
     },
     "execution_count": 54,
     "metadata": {},
     "output_type": "execute_result"
    }
   ],
   "source": [
    "frec.median()"
   ]
  },
  {
   "cell_type": "code",
   "execution_count": 153,
   "metadata": {},
   "outputs": [
    {
     "data": {
      "text/html": [
       "<div>\n",
       "<style scoped>\n",
       "    .dataframe tbody tr th:only-of-type {\n",
       "        vertical-align: middle;\n",
       "    }\n",
       "\n",
       "    .dataframe tbody tr th {\n",
       "        vertical-align: top;\n",
       "    }\n",
       "\n",
       "    .dataframe thead th {\n",
       "        text-align: right;\n",
       "    }\n",
       "</style>\n",
       "<table border=\"1\" class=\"dataframe\">\n",
       "  <thead>\n",
       "    <tr style=\"text-align: right;\">\n",
       "      <th></th>\n",
       "      <th>FlowBytesReceived</th>\n",
       "    </tr>\n",
       "  </thead>\n",
       "  <tbody>\n",
       "    <tr>\n",
       "      <th>0</th>\n",
       "      <td>4896</td>\n",
       "    </tr>\n",
       "  </tbody>\n",
       "</table>\n",
       "</div>"
      ],
      "text/plain": [
       "   FlowBytesReceived\n",
       "0               4896"
      ]
     },
     "execution_count": 153,
     "metadata": {},
     "output_type": "execute_result"
    }
   ],
   "source": [
    "frec.mode()"
   ]
  },
  {
   "cell_type": "code",
   "execution_count": 55,
   "metadata": {},
   "outputs": [
    {
     "name": "stderr",
     "output_type": "stream",
     "text": [
      "C:\\Users\\lmaha\\AppData\\Local\\Temp\\ipykernel_15652\\2188002453.py:8: SettingWithCopyWarning: \n",
      "A value is trying to be set on a copy of a slice from a DataFrame\n",
      "\n",
      "See the caveats in the documentation: https://pandas.pydata.org/pandas-docs/stable/user_guide/indexing.html#returning-a-view-versus-a-copy\n",
      "  db['FlowBytesReceived'][i] = 'fr_more'\n"
     ]
    }
   ],
   "source": [
    "for i in range (0,len(db)):\n",
    "    if(isinstance(db['FlowBytesReceived'][i], str)):\n",
    "        db['FlowBytesReceived'][i] = 0\n",
    "        \n",
    "    if(db['FlowBytesReceived'][i] == 98):\n",
    "        db['FlowBytesReceived'][i] = 'fr_98'\n",
    "    elif(db['FlowBytesReceived'][i] > 4900):\n",
    "        db['FlowBytesReceived'][i] = 'fr_more'\n",
    "    else:\n",
    "        db['FlowBytesReceived'][i] = 'fr_less'\n",
    "        \n"
   ]
  },
  {
   "cell_type": "code",
   "execution_count": 56,
   "metadata": {},
   "outputs": [],
   "source": [
    "frec_dummies = pd.get_dummies(db['FlowBytesReceived'])"
   ]
  },
  {
   "cell_type": "code",
   "execution_count": 57,
   "metadata": {},
   "outputs": [],
   "source": [
    "bd_create = pd.concat([db_create,frec_dummies],axis=1)"
   ]
  },
  {
   "cell_type": "code",
   "execution_count": 58,
   "metadata": {},
   "outputs": [],
   "source": [
    "frc = db[[\"FlowReceivedRate\"]]\n",
    "frc = sc.fit_transform(frc)\n",
    "frc = pd.DataFrame(frc)\n"
   ]
  },
  {
   "cell_type": "code",
   "execution_count": 59,
   "metadata": {},
   "outputs": [],
   "source": [
    "frc = frc.rename(columns = {0:\"FlowRecvRate\"})"
   ]
  },
  {
   "cell_type": "code",
   "execution_count": 60,
   "metadata": {},
   "outputs": [],
   "source": [
    "db_create = pd.concat([db_create,frc],axis=1)"
   ]
  },
  {
   "cell_type": "code",
   "execution_count": 61,
   "metadata": {},
   "outputs": [],
   "source": [
    "plv = db[[\"PacketLengthVariance\"]]\n",
    "plv = sc.fit_transform(plv)\n",
    "plv = pd.DataFrame(plv)"
   ]
  },
  {
   "cell_type": "code",
   "execution_count": 62,
   "metadata": {},
   "outputs": [],
   "source": [
    "plv = plv.rename(columns = {0:\"Pcket_lenVar\"})"
   ]
  },
  {
   "cell_type": "code",
   "execution_count": 63,
   "metadata": {},
   "outputs": [],
   "source": [
    "db_create = pd.concat([db_create,plv],axis=1)"
   ]
  },
  {
   "cell_type": "code",
   "execution_count": 64,
   "metadata": {},
   "outputs": [],
   "source": [
    "plsd = db[[\"PacketLengthStandardDeviation\"]]\n",
    "plsd = sc.fit_transform(plsd)\n",
    "plsd = pd.DataFrame(plsd)"
   ]
  },
  {
   "cell_type": "code",
   "execution_count": 65,
   "metadata": {},
   "outputs": [],
   "source": [
    "plsd = plsd.rename(columns = {0:\"Length_std\"})"
   ]
  },
  {
   "cell_type": "code",
   "execution_count": 66,
   "metadata": {},
   "outputs": [],
   "source": [
    "db_create = pd.concat([db_create,plsd],axis=1)"
   ]
  },
  {
   "cell_type": "code",
   "execution_count": 67,
   "metadata": {},
   "outputs": [],
   "source": [
    "for i in range (0,len(db)):\n",
    "    if(isinstance(db['PacketLengthMean'][i], str)):\n",
    "        df['PacketLengthMean'][i] = 0\n",
    "        \n"
   ]
  },
  {
   "cell_type": "code",
   "execution_count": 68,
   "metadata": {},
   "outputs": [],
   "source": [
    "plm = db[['PacketLengthMean']]\n",
    "plm = sc.fit_transform(plm)\n",
    "plm = pd.DataFrame(plm)"
   ]
  },
  {
   "cell_type": "code",
   "execution_count": 69,
   "metadata": {},
   "outputs": [],
   "source": [
    "plm = plm.rename(columns = {0:\"Length_mean\"})"
   ]
  },
  {
   "cell_type": "code",
   "execution_count": 70,
   "metadata": {},
   "outputs": [],
   "source": [
    "db_create = pd.concat([db_create,plm],axis=1)"
   ]
  },
  {
   "cell_type": "code",
   "execution_count": 71,
   "metadata": {},
   "outputs": [],
   "source": [
    "db_temp_half = db_create"
   ]
  },
  {
   "cell_type": "code",
   "execution_count": 72,
   "metadata": {},
   "outputs": [],
   "source": [
    "for i in range (0,len(db)):\n",
    "    if(isinstance(db['PacketLengthMedian'][i], str)):\n",
    "        db['PacketLengthMedian'][i] = 0"
   ]
  },
  {
   "cell_type": "code",
   "execution_count": 73,
   "metadata": {},
   "outputs": [],
   "source": [
    "pl_med = db[['PacketLengthMedian']]\n"
   ]
  },
  {
   "cell_type": "code",
   "execution_count": 74,
   "metadata": {},
   "outputs": [],
   "source": [
    "pl_med = sc.fit_transform(pl_med)\n",
    "pl_med = pd.DataFrame(pl_med)"
   ]
  },
  {
   "cell_type": "code",
   "execution_count": 75,
   "metadata": {},
   "outputs": [],
   "source": [
    "pl_med = pl_med.rename(columns = {0:\"L_median\"})"
   ]
  },
  {
   "cell_type": "code",
   "execution_count": 76,
   "metadata": {},
   "outputs": [],
   "source": [
    "db_create = pd.concat([db_create,pl_med],axis=1)"
   ]
  },
  {
   "cell_type": "code",
   "execution_count": 77,
   "metadata": {},
   "outputs": [],
   "source": [
    "for i in range (0,len(db)):\n",
    "    if(isinstance(db['PacketLengthMode'][i], str)):\n",
    "        db['PacketLengthMode'][i] = 0"
   ]
  },
  {
   "cell_type": "code",
   "execution_count": 78,
   "metadata": {},
   "outputs": [],
   "source": [
    "pl_mode = db[['PacketLengthMode']]\n",
    "pl_mode = sc.fit_transform(pl_mode)\n",
    "pl_mode = pd.DataFrame(pl_mode)"
   ]
  },
  {
   "cell_type": "code",
   "execution_count": 79,
   "metadata": {},
   "outputs": [],
   "source": [
    "pl_mode = pl_mode.rename(columns = {0:\"L_mode\"})"
   ]
  },
  {
   "cell_type": "code",
   "execution_count": 80,
   "metadata": {},
   "outputs": [],
   "source": [
    "db_create = pd.concat([db_create,pl_mode],axis=1)"
   ]
  },
  {
   "cell_type": "code",
   "execution_count": 81,
   "metadata": {},
   "outputs": [],
   "source": [
    "for i in range (0,len(db)):\n",
    "    if(isinstance(db['PacketLengthSkewFromMedian'][i], str)):\n",
    "        db['PacketLengthSkewFromMedian'][i] = 0"
   ]
  },
  {
   "cell_type": "code",
   "execution_count": 82,
   "metadata": {},
   "outputs": [],
   "source": [
    "s_med = db[['PacketLengthSkewFromMedian']]\n",
    "s_med = sc.fit_transform(s_med)\n",
    "s_med = pd.DataFrame(s_med)"
   ]
  },
  {
   "cell_type": "code",
   "execution_count": 83,
   "metadata": {},
   "outputs": [],
   "source": [
    "s_med = s_med.rename(columns = {0:\"s_median\"})"
   ]
  },
  {
   "cell_type": "code",
   "execution_count": 84,
   "metadata": {},
   "outputs": [],
   "source": [
    "db_create = pd.concat([db_create,s_med],axis=1)"
   ]
  },
  {
   "cell_type": "code",
   "execution_count": 85,
   "metadata": {},
   "outputs": [],
   "source": [
    "for i in range (0,len(db)):\n",
    "    if(isinstance(db['PacketLengthSkewFromMode'][i], str)):\n",
    "        db['PacketLengthSkewFromMode'][i] = 0"
   ]
  },
  {
   "cell_type": "code",
   "execution_count": 86,
   "metadata": {},
   "outputs": [],
   "source": [
    "s_mode = db[['PacketLengthSkewFromMode']]\n",
    "s_mode = sc.fit_transform(s_mode)\n",
    "s_mode = pd.DataFrame(s_mode)"
   ]
  },
  {
   "cell_type": "code",
   "execution_count": 87,
   "metadata": {},
   "outputs": [],
   "source": [
    "s_mode = s_mode.rename(columns = {0:\"s_mode\"})"
   ]
  },
  {
   "cell_type": "code",
   "execution_count": 88,
   "metadata": {},
   "outputs": [],
   "source": [
    "db_create = pd.concat([db_create,s_mode],axis=1)"
   ]
  },
  {
   "cell_type": "code",
   "execution_count": 89,
   "metadata": {},
   "outputs": [],
   "source": [
    "for i in range (0,len(db)):\n",
    "    if(isinstance(db['PacketLengthCoefficientofVariation'][i], str)):\n",
    "        db['PacketLengthCoefficientofVariation'][i] = 0"
   ]
  },
  {
   "cell_type": "code",
   "execution_count": 90,
   "metadata": {},
   "outputs": [],
   "source": [
    "plcv = db[['PacketLengthCoefficientofVariation']]\n",
    "plcv = sc.fit_transform(plcv)\n",
    "plcv = pd.DataFrame(plcv)"
   ]
  },
  {
   "cell_type": "code",
   "execution_count": 91,
   "metadata": {},
   "outputs": [],
   "source": [
    "plcv = plcv.rename(columns = {0:\"PLCV\"})"
   ]
  },
  {
   "cell_type": "code",
   "execution_count": 92,
   "metadata": {},
   "outputs": [],
   "source": [
    "db_create = pd.concat([db_create,plcv],axis=1)"
   ]
  },
  {
   "cell_type": "code",
   "execution_count": 93,
   "metadata": {},
   "outputs": [],
   "source": [
    "for i in range (0,len(db)):\n",
    "    if(isinstance(db['PacketTimeVariance'][i], str)):\n",
    "        db['PacketTimeVariance'][i] = 0"
   ]
  },
  {
   "cell_type": "code",
   "execution_count": 94,
   "metadata": {},
   "outputs": [],
   "source": [
    "ptv = db[['PacketTimeVariance']]\n",
    "ptv = sc.fit_transform(ptv)\n",
    "ptv = pd.DataFrame(ptv)"
   ]
  },
  {
   "cell_type": "code",
   "execution_count": 95,
   "metadata": {},
   "outputs": [],
   "source": [
    "ptv = ptv.rename(columns = {0:\"PTV\"})"
   ]
  },
  {
   "cell_type": "code",
   "execution_count": 96,
   "metadata": {},
   "outputs": [],
   "source": [
    "db_create = pd.concat([db_create,ptv],axis=1)"
   ]
  },
  {
   "cell_type": "code",
   "execution_count": 97,
   "metadata": {},
   "outputs": [],
   "source": [
    "for i in range (0,len(db)):\n",
    "    if(isinstance(db['PacketTimeStandardDeviation'][i], str)):\n",
    "        db['PacketTimeStandardDeviatione'][i] = 0"
   ]
  },
  {
   "cell_type": "code",
   "execution_count": 98,
   "metadata": {},
   "outputs": [],
   "source": [
    "pt_std = db[['PacketTimeStandardDeviation']]\n",
    "pt_std = sc.fit_transform(pt_std)\n",
    "pt_std = pd.DataFrame(pt_std)"
   ]
  },
  {
   "cell_type": "code",
   "execution_count": 99,
   "metadata": {},
   "outputs": [],
   "source": [
    "pt_std = pt_std.rename(columns = {0:\"PT_std\"})\n",
    "db_create = pd.concat([db_create,pt_std],axis=1)"
   ]
  },
  {
   "cell_type": "code",
   "execution_count": 100,
   "metadata": {},
   "outputs": [],
   "source": [
    "for i in range (0,len(db)):\n",
    "    if(isinstance(db['PacketTimeMean'][i], str)):\n",
    "        db['PacketTimeMean'][i] = 0\n",
    "        \n",
    "pt_mean = db[['PacketTimeMean']]\n",
    "pt_mean = sc.fit_transform(pt_mean)\n",
    "pt_mean = pd.DataFrame(pt_mean)"
   ]
  },
  {
   "cell_type": "code",
   "execution_count": 101,
   "metadata": {},
   "outputs": [],
   "source": [
    "pt_mean = pt_mean.rename(columns = {0:\"PT_mean\"})\n",
    "db_create = pd.concat([db_create,pt_mean],axis=1)"
   ]
  },
  {
   "cell_type": "code",
   "execution_count": 102,
   "metadata": {},
   "outputs": [],
   "source": [
    "for i in range (0,len(db)):\n",
    "    if(isinstance(db['PacketTimeMedian'][i], str)):\n",
    "        db['PacketTimeMedian'][i] = 0\n",
    "        \n",
    "pt_med = db[['PacketTimeMedian']]\n",
    "pt_med = sc.fit_transform(pt_med)\n",
    "pt_med = pd.DataFrame(pt_med)"
   ]
  },
  {
   "cell_type": "code",
   "execution_count": 103,
   "metadata": {},
   "outputs": [],
   "source": [
    "pt_med = pt_med.rename(columns = {0:\"PT_median\"})\n",
    "db_create = pd.concat([db_create,pt_med],axis=1)"
   ]
  },
  {
   "cell_type": "code",
   "execution_count": 104,
   "metadata": {},
   "outputs": [],
   "source": [
    "for i in range (0,len(db)):\n",
    "    if(isinstance(db['PacketTimeMode'][i], str)):\n",
    "        db['PacketTimeMode'][i] = 0\n",
    "        \n",
    "packt_time_mode = db[['PacketTimeMode']]\n",
    "packt_time_mode = sc.fit_transform(packt_time_mode)\n",
    "packt_time_mode = pd.DataFrame(packt_time_mode)"
   ]
  },
  {
   "cell_type": "code",
   "execution_count": 105,
   "metadata": {},
   "outputs": [],
   "source": [
    "packt_time_mode = packt_time_mode.rename(columns = {0:\"Packt_Time_mode\"})\n",
    "db_create = pd.concat([db_create,packt_time_mode],axis=1)"
   ]
  },
  {
   "cell_type": "code",
   "execution_count": 106,
   "metadata": {},
   "outputs": [],
   "source": [
    "for i in range (0,len(db)):\n",
    "    if(isinstance(db['PacketTimeSkewFromMedian'][i], str)):\n",
    "        db['PacketTimeSkewFromMedian'][i] = 0\n",
    "        \n",
    "s_med_time = db[['PacketTimeSkewFromMedian']]\n",
    "s_med_time = sc.fit_transform(s_med_time)\n",
    "s_med_time = pd.DataFrame(s_med_time)"
   ]
  },
  {
   "cell_type": "code",
   "execution_count": 107,
   "metadata": {},
   "outputs": [],
   "source": [
    "s_med_time = s_med_time.rename(columns = {0:\"s_med_time\"})\n",
    "dfb_create = pd.concat([db_create,s_med_time],axis=1)"
   ]
  },
  {
   "cell_type": "code",
   "execution_count": 108,
   "metadata": {},
   "outputs": [],
   "source": [
    "for i in range (0,len(db)):\n",
    "    if(isinstance(db['PacketTimeSkewFromMode'][i], str)):\n",
    "        db['PacketTimeSkewFromMode'][i] = 0\n",
    "        \n",
    "s_mode_time = db[['PacketTimeSkewFromMode']]\n",
    "s_mode_time = sc.fit_transform(s_mode_time)\n",
    "s_mode_time = pd.DataFrame(s_mode_time)"
   ]
  },
  {
   "cell_type": "code",
   "execution_count": 109,
   "metadata": {},
   "outputs": [],
   "source": [
    "s_mode_time = s_mode_time.rename(columns = {0:\"s_mode_time\"})\n"
   ]
  },
  {
   "cell_type": "code",
   "execution_count": 110,
   "metadata": {},
   "outputs": [],
   "source": [
    "db_create = pd.concat([db_create,s_mode_time],axis=1)"
   ]
  },
  {
   "cell_type": "code",
   "execution_count": 111,
   "metadata": {},
   "outputs": [],
   "source": [
    "for i in range (0,len(db)):\n",
    "    if(isinstance(db['PacketTimeCoefficientofVariation'][i], str)):\n",
    "        db['PacketTimeCoefficientofVariation'][i] = 0\n",
    "        \n",
    "pkt_cov_time = db[['PacketTimeCoefficientofVariation']]\n",
    "pkt_cov_time = sc.fit_transform(pkt_cov_time)\n",
    "pkt_cov_time = pd.DataFrame(pkt_cov_time)"
   ]
  },
  {
   "cell_type": "code",
   "execution_count": 112,
   "metadata": {},
   "outputs": [],
   "source": [
    "pjt_cov_time = pkt_cov_time.rename(columns = {0:\"pkt_cov_time\"})\n",
    "db_create = pd.concat([db_create,pkt_cov_time],axis=1)\n"
   ]
  },
  {
   "cell_type": "code",
   "execution_count": 113,
   "metadata": {},
   "outputs": [],
   "source": [
    "for i in range (0,len(db)):\n",
    "    if(isinstance(db['ResponseTimeTimeVariance'][i], str)):\n",
    "        db['ResponseTimeTimeVariance'][i] = 0\n",
    "        \n",
    "r_time_var = db[['ResponseTimeTimeVariance']]\n",
    "r_time_var = sc.fit_transform(r_time_var)\n",
    "r_time_var = pd.DataFrame(r_time_var)"
   ]
  },
  {
   "cell_type": "code",
   "execution_count": 114,
   "metadata": {},
   "outputs": [],
   "source": [
    "r_time_var = r_time_var.rename(columns = {0:\"r_time_var\"})\n",
    "db_create = pd.concat([db_create,r_time_var],axis=1)"
   ]
  },
  {
   "cell_type": "code",
   "execution_count": 115,
   "metadata": {},
   "outputs": [],
   "source": [
    "for i in range (0,len(db)):\n",
    "    if(isinstance(db['ResponseTimeTimeStandardDeviation'][i], str)):\n",
    "        db['ResponseTimeTimeStandardDeviation'][i] = 0\n",
    "        \n",
    "r_time_std = db[['ResponseTimeTimeStandardDeviation']]\n",
    "r_time_std = sc.fit_transform(r_time_std)\n",
    "r_time_std = pd.DataFrame(r_time_std)"
   ]
  },
  {
   "cell_type": "code",
   "execution_count": 116,
   "metadata": {},
   "outputs": [],
   "source": [
    "r_time_std = r_time_std.rename(columns = {0:\"r_time_std\"})"
   ]
  },
  {
   "cell_type": "code",
   "execution_count": 117,
   "metadata": {},
   "outputs": [],
   "source": [
    "db_create = pd.concat([db_create,r_time_std],axis=1)"
   ]
  },
  {
   "cell_type": "code",
   "execution_count": 118,
   "metadata": {},
   "outputs": [],
   "source": [
    "for i in range (0,len(db)):\n",
    "    if(isinstance(db['ResponseTimeTimeMean'][i], str)):\n",
    "        db['ResponseTimeTimeMean'][i] = 0"
   ]
  },
  {
   "cell_type": "code",
   "execution_count": 119,
   "metadata": {},
   "outputs": [],
   "source": [
    "r_time_mean = db[['ResponseTimeTimeMean']]\n",
    "r_time_mean = sc.fit_transform(r_time_mean)\n",
    "r_time_mean = pd.DataFrame(r_time_mean)"
   ]
  },
  {
   "cell_type": "code",
   "execution_count": 120,
   "metadata": {},
   "outputs": [],
   "source": [
    "r_time_mean = r_time_mean.rename(columns = {0:\"r_time_mean\"})"
   ]
  },
  {
   "cell_type": "code",
   "execution_count": 121,
   "metadata": {},
   "outputs": [],
   "source": [
    "db_create = pd.concat([db_create,r_time_mean],axis=1)"
   ]
  },
  {
   "cell_type": "code",
   "execution_count": 122,
   "metadata": {},
   "outputs": [
    {
     "name": "stderr",
     "output_type": "stream",
     "text": [
      "C:\\Users\\lmaha\\AppData\\Local\\Temp\\ipykernel_15652\\3128067722.py:3: SettingWithCopyWarning: \n",
      "A value is trying to be set on a copy of a slice from a DataFrame\n",
      "\n",
      "See the caveats in the documentation: https://pandas.pydata.org/pandas-docs/stable/user_guide/indexing.html#returning-a-view-versus-a-copy\n",
      "  db['ResponseTimeTimeMedian'][i] = 0\n"
     ]
    }
   ],
   "source": [
    "for i in range (0,len(db)):\n",
    "    if(isinstance(db['ResponseTimeTimeMedian'][i], str)):\n",
    "        db['ResponseTimeTimeMedian'][i] = 0\n",
    "        \n",
    "r_time_med = db[['ResponseTimeTimeMedian']]\n",
    "r_time_med = sc.fit_transform(r_time_med)\n",
    "r_time_med = pd.DataFrame(r_time_med)"
   ]
  },
  {
   "cell_type": "code",
   "execution_count": 123,
   "metadata": {},
   "outputs": [],
   "source": [
    "r_time_med = r_time_med.rename(columns = {0:\"r_time_med\"})\n",
    "db_create = pd.concat([db_create,r_time_med],axis=1)"
   ]
  },
  {
   "cell_type": "code",
   "execution_count": 124,
   "metadata": {},
   "outputs": [],
   "source": [
    "for i in range (0,len(db)):\n",
    "    if(isinstance(db['ResponseTimeTimeMode'][i], str)):\n",
    "        db['ResponseTimeTimeMode'][i] = 0\n",
    "        \n",
    "r_time_mode = db[['ResponseTimeTimeMode']]\n",
    "r_time_mode = sc.fit_transform(r_time_mode)\n",
    "r_time_mode = pd.DataFrame(r_time_mode)"
   ]
  },
  {
   "cell_type": "code",
   "execution_count": 125,
   "metadata": {},
   "outputs": [],
   "source": [
    "r_time_mode = r_time_mode.rename(columns = {0:\"r_time_mode\"})\n",
    "db_create = pd.concat([db_create,r_time_mode],axis=1)"
   ]
  },
  {
   "cell_type": "code",
   "execution_count": 126,
   "metadata": {},
   "outputs": [
    {
     "name": "stderr",
     "output_type": "stream",
     "text": [
      "C:\\Users\\lmaha\\AppData\\Local\\Temp\\ipykernel_15652\\2213183745.py:3: SettingWithCopyWarning: \n",
      "A value is trying to be set on a copy of a slice from a DataFrame\n",
      "\n",
      "See the caveats in the documentation: https://pandas.pydata.org/pandas-docs/stable/user_guide/indexing.html#returning-a-view-versus-a-copy\n",
      "  db['ResponseTimeTimeSkewFromMedian'][i] = 0\n"
     ]
    }
   ],
   "source": [
    "for i in range (0,len(db)):\n",
    "    if(isinstance(db['ResponseTimeTimeSkewFromMedian'][i], str)):\n",
    "        db['ResponseTimeTimeSkewFromMedian'][i] = 0\n",
    "        \n",
    "r_s_med_time = db[['ResponseTimeTimeSkewFromMedian']]\n",
    "r_s_med_time = sc.fit_transform(r_s_med_time)\n",
    "r_s_med_time = pd.DataFrame(r_s_med_time)"
   ]
  },
  {
   "cell_type": "code",
   "execution_count": 127,
   "metadata": {},
   "outputs": [],
   "source": [
    "r_s_med_time = r_s_med_time.rename(columns = {0:\"r_s_med_time\"})\n",
    "db_create = pd.concat([db_create,r_s_med_time],axis=1)"
   ]
  },
  {
   "cell_type": "code",
   "execution_count": 128,
   "metadata": {},
   "outputs": [],
   "source": [
    "for i in range (0,len(db)):\n",
    "    if(isinstance(db['ResponseTimeTimeSkewFromMode'][i], str)):\n",
    "        db['ResponseTimeTimeSkewFromMode'][i] = 0"
   ]
  },
  {
   "cell_type": "code",
   "execution_count": 129,
   "metadata": {},
   "outputs": [],
   "source": [
    "r_s_mode_time = db[['ResponseTimeTimeSkewFromMode']]\n",
    "r_s_mode_time = sc.fit_transform(r_s_mode_time)\n",
    "r_s_mode_time = pd.DataFrame(r_s_mode_time)"
   ]
  },
  {
   "cell_type": "code",
   "execution_count": 130,
   "metadata": {},
   "outputs": [],
   "source": [
    "r_s_mode_time = r_s_mode_time.rename(columns = {0:\"r_s_mode_time\"})\n",
    "db_create = pd.concat([db_create,r_s_mode_time],axis=1)"
   ]
  },
  {
   "cell_type": "code",
   "execution_count": 131,
   "metadata": {},
   "outputs": [],
   "source": [
    "for i in range (0,len(db)):\n",
    "    if(isinstance(db['ResponseTimeTimeCoefficientofVariation'][i], str)):\n",
    "        db['ResponseTimeTimeCoefficientofVariation'][i] = 0"
   ]
  },
  {
   "cell_type": "code",
   "execution_count": 132,
   "metadata": {},
   "outputs": [],
   "source": [
    "r_c_time = db[['ResponseTimeTimeCoefficientofVariation']]\n",
    "r_c_time = sc.fit_transform(r_c_time)\n",
    "r_c_time = pd.DataFrame(r_c_time)"
   ]
  },
  {
   "cell_type": "code",
   "execution_count": 133,
   "metadata": {},
   "outputs": [],
   "source": [
    "r_c_time = r_c_time.rename(columns = {0:\"r_c_time\"})\n",
    "db_create = pd.concat([db_create,r_c_time],axis=1)"
   ]
  },
  {
   "cell_type": "code",
   "execution_count": 134,
   "metadata": {},
   "outputs": [],
   "source": [
    "labels = pd.get_dummies(db['Label'])"
   ]
  },
  {
   "cell_type": "code",
   "execution_count": 135,
   "metadata": {},
   "outputs": [],
   "source": [
    "db_create = pd.concat([db_create,labels],axis=1)"
   ]
  },
  {
   "cell_type": "code",
   "execution_count": 136,
   "metadata": {},
   "outputs": [
    {
     "data": {
      "text/plain": [
       "dtype('float64')"
      ]
     },
     "execution_count": 136,
     "metadata": {},
     "output_type": "execute_result"
    }
   ],
   "source": [
    "db.dtypes['FlowReceivedRate']"
   ]
  },
  {
   "cell_type": "code",
   "execution_count": 137,
   "metadata": {},
   "outputs": [],
   "source": [
    "db_create.to_csv(r'E:\\VIT\\F2-ISM\\REVIEW 2\\REVIEW 2\\final_data_input_FINAL_Final.csv')"
   ]
  },
  {
   "cell_type": "code",
   "execution_count": 138,
   "metadata": {},
   "outputs": [
    {
     "data": {
      "text/html": [
       "<div>\n",
       "<style scoped>\n",
       "    .dataframe tbody tr th:only-of-type {\n",
       "        vertical-align: middle;\n",
       "    }\n",
       "\n",
       "    .dataframe tbody tr th {\n",
       "        vertical-align: top;\n",
       "    }\n",
       "\n",
       "    .dataframe thead th {\n",
       "        text-align: right;\n",
       "    }\n",
       "</style>\n",
       "<table border=\"1\" class=\"dataframe\">\n",
       "  <thead>\n",
       "    <tr style=\"text-align: right;\">\n",
       "      <th></th>\n",
       "      <th>ip_1</th>\n",
       "      <th>ip_144</th>\n",
       "      <th>ip_204</th>\n",
       "      <th>ip_205</th>\n",
       "      <th>ip_207</th>\n",
       "      <th>ip_8</th>\n",
       "      <th>not_freq</th>\n",
       "      <th>ip_4</th>\n",
       "      <th>ip_11</th>\n",
       "      <th>dest_ip_130_1_8</th>\n",
       "      <th>...</th>\n",
       "      <th>r_time_var</th>\n",
       "      <th>r_time_std</th>\n",
       "      <th>r_time_mean</th>\n",
       "      <th>r_time_med</th>\n",
       "      <th>r_time_mode</th>\n",
       "      <th>r_s_med_time</th>\n",
       "      <th>r_s_mode_time</th>\n",
       "      <th>r_c_time</th>\n",
       "      <th>Benign</th>\n",
       "      <th>Malicious</th>\n",
       "    </tr>\n",
       "  </thead>\n",
       "  <tbody>\n",
       "    <tr>\n",
       "      <th>136084</th>\n",
       "      <td>0</td>\n",
       "      <td>0</td>\n",
       "      <td>0</td>\n",
       "      <td>0</td>\n",
       "      <td>0</td>\n",
       "      <td>0</td>\n",
       "      <td>1</td>\n",
       "      <td>0</td>\n",
       "      <td>0</td>\n",
       "      <td>1</td>\n",
       "      <td>...</td>\n",
       "      <td>-0.178917</td>\n",
       "      <td>-0.237048</td>\n",
       "      <td>-0.239838</td>\n",
       "      <td>-0.226448</td>\n",
       "      <td>-0.159619</td>\n",
       "      <td>1.363765</td>\n",
       "      <td>-0.036417</td>\n",
       "      <td>0.026988</td>\n",
       "      <td>0</td>\n",
       "      <td>1</td>\n",
       "    </tr>\n",
       "    <tr>\n",
       "      <th>68199</th>\n",
       "      <td>0</td>\n",
       "      <td>0</td>\n",
       "      <td>1</td>\n",
       "      <td>0</td>\n",
       "      <td>0</td>\n",
       "      <td>0</td>\n",
       "      <td>0</td>\n",
       "      <td>0</td>\n",
       "      <td>1</td>\n",
       "      <td>0</td>\n",
       "      <td>...</td>\n",
       "      <td>-0.178941</td>\n",
       "      <td>-0.244508</td>\n",
       "      <td>-0.239601</td>\n",
       "      <td>-0.221614</td>\n",
       "      <td>-0.159611</td>\n",
       "      <td>-0.542685</td>\n",
       "      <td>0.643204</td>\n",
       "      <td>-0.361626</td>\n",
       "      <td>0</td>\n",
       "      <td>1</td>\n",
       "    </tr>\n",
       "    <tr>\n",
       "      <th>130363</th>\n",
       "      <td>0</td>\n",
       "      <td>1</td>\n",
       "      <td>0</td>\n",
       "      <td>0</td>\n",
       "      <td>0</td>\n",
       "      <td>0</td>\n",
       "      <td>0</td>\n",
       "      <td>0</td>\n",
       "      <td>1</td>\n",
       "      <td>0</td>\n",
       "      <td>...</td>\n",
       "      <td>-0.178933</td>\n",
       "      <td>-0.241448</td>\n",
       "      <td>-0.239463</td>\n",
       "      <td>-0.222830</td>\n",
       "      <td>-0.159270</td>\n",
       "      <td>0.363285</td>\n",
       "      <td>0.214765</td>\n",
       "      <td>-0.229638</td>\n",
       "      <td>0</td>\n",
       "      <td>1</td>\n",
       "    </tr>\n",
       "    <tr>\n",
       "      <th>162427</th>\n",
       "      <td>0</td>\n",
       "      <td>0</td>\n",
       "      <td>0</td>\n",
       "      <td>0</td>\n",
       "      <td>0</td>\n",
       "      <td>0</td>\n",
       "      <td>1</td>\n",
       "      <td>0</td>\n",
       "      <td>1</td>\n",
       "      <td>0</td>\n",
       "      <td>...</td>\n",
       "      <td>-0.178940</td>\n",
       "      <td>-0.244177</td>\n",
       "      <td>-0.239452</td>\n",
       "      <td>-0.221581</td>\n",
       "      <td>-0.159618</td>\n",
       "      <td>-0.434353</td>\n",
       "      <td>0.618959</td>\n",
       "      <td>-0.355394</td>\n",
       "      <td>0</td>\n",
       "      <td>1</td>\n",
       "    </tr>\n",
       "    <tr>\n",
       "      <th>197377</th>\n",
       "      <td>0</td>\n",
       "      <td>1</td>\n",
       "      <td>0</td>\n",
       "      <td>0</td>\n",
       "      <td>0</td>\n",
       "      <td>0</td>\n",
       "      <td>0</td>\n",
       "      <td>0</td>\n",
       "      <td>1</td>\n",
       "      <td>0</td>\n",
       "      <td>...</td>\n",
       "      <td>-0.178940</td>\n",
       "      <td>-0.244234</td>\n",
       "      <td>-0.240188</td>\n",
       "      <td>-0.221618</td>\n",
       "      <td>-0.159629</td>\n",
       "      <td>-0.859967</td>\n",
       "      <td>0.445261</td>\n",
       "      <td>-0.304487</td>\n",
       "      <td>0</td>\n",
       "      <td>1</td>\n",
       "    </tr>\n",
       "  </tbody>\n",
       "</table>\n",
       "<p>5 rows × 46 columns</p>\n",
       "</div>"
      ],
      "text/plain": [
       "        ip_1  ip_144  ip_204  ip_205  ip_207  ip_8  not_freq  ip_4  ip_11  \\\n",
       "136084     0       0       0       0       0     0         1     0      0   \n",
       "68199      0       0       1       0       0     0         0     0      1   \n",
       "130363     0       1       0       0       0     0         0     0      1   \n",
       "162427     0       0       0       0       0     0         1     0      1   \n",
       "197377     0       1       0       0       0     0         0     0      1   \n",
       "\n",
       "        dest_ip_130_1_8  ...  r_time_var  r_time_std  r_time_mean  r_time_med  \\\n",
       "136084                1  ...   -0.178917   -0.237048    -0.239838   -0.226448   \n",
       "68199                 0  ...   -0.178941   -0.244508    -0.239601   -0.221614   \n",
       "130363                0  ...   -0.178933   -0.241448    -0.239463   -0.222830   \n",
       "162427                0  ...   -0.178940   -0.244177    -0.239452   -0.221581   \n",
       "197377                0  ...   -0.178940   -0.244234    -0.240188   -0.221618   \n",
       "\n",
       "        r_time_mode  r_s_med_time  r_s_mode_time  r_c_time  Benign  Malicious  \n",
       "136084    -0.159619      1.363765      -0.036417  0.026988       0          1  \n",
       "68199     -0.159611     -0.542685       0.643204 -0.361626       0          1  \n",
       "130363    -0.159270      0.363285       0.214765 -0.229638       0          1  \n",
       "162427    -0.159618     -0.434353       0.618959 -0.355394       0          1  \n",
       "197377    -0.159629     -0.859967       0.445261 -0.304487       0          1  \n",
       "\n",
       "[5 rows x 46 columns]"
      ]
     },
     "execution_count": 138,
     "metadata": {},
     "output_type": "execute_result"
    }
   ],
   "source": [
    "db_create.head()"
   ]
  },
  {
   "cell_type": "code",
   "execution_count": 139,
   "metadata": {},
   "outputs": [
    {
     "data": {
      "text/html": [
       "<div>\n",
       "<style scoped>\n",
       "    .dataframe tbody tr th:only-of-type {\n",
       "        vertical-align: middle;\n",
       "    }\n",
       "\n",
       "    .dataframe tbody tr th {\n",
       "        vertical-align: top;\n",
       "    }\n",
       "\n",
       "    .dataframe thead th {\n",
       "        text-align: right;\n",
       "    }\n",
       "</style>\n",
       "<table border=\"1\" class=\"dataframe\">\n",
       "  <thead>\n",
       "    <tr style=\"text-align: right;\">\n",
       "      <th></th>\n",
       "      <th>ip_1</th>\n",
       "      <th>ip_144</th>\n",
       "      <th>ip_204</th>\n",
       "      <th>ip_205</th>\n",
       "      <th>ip_207</th>\n",
       "      <th>ip_8</th>\n",
       "      <th>not_freq</th>\n",
       "      <th>ip_4</th>\n",
       "      <th>ip_11</th>\n",
       "      <th>dest_ip_130_1_8</th>\n",
       "      <th>...</th>\n",
       "      <th>0</th>\n",
       "      <th>r_time_var</th>\n",
       "      <th>r_time_std</th>\n",
       "      <th>r_time_mean</th>\n",
       "      <th>r_time_med</th>\n",
       "      <th>r_time_mode</th>\n",
       "      <th>r_s_med_time</th>\n",
       "      <th>r_s_mode_time</th>\n",
       "      <th>r_c_time</th>\n",
       "      <th>Benign</th>\n",
       "    </tr>\n",
       "  </thead>\n",
       "  <tbody>\n",
       "    <tr>\n",
       "      <th>136084</th>\n",
       "      <td>0</td>\n",
       "      <td>0</td>\n",
       "      <td>0</td>\n",
       "      <td>0</td>\n",
       "      <td>0</td>\n",
       "      <td>0</td>\n",
       "      <td>1</td>\n",
       "      <td>0</td>\n",
       "      <td>0</td>\n",
       "      <td>1</td>\n",
       "      <td>...</td>\n",
       "      <td>-0.926752</td>\n",
       "      <td>-0.178917</td>\n",
       "      <td>-0.237048</td>\n",
       "      <td>-0.239838</td>\n",
       "      <td>-0.226448</td>\n",
       "      <td>-0.159619</td>\n",
       "      <td>1.363765</td>\n",
       "      <td>-0.036417</td>\n",
       "      <td>0.026988</td>\n",
       "      <td>0</td>\n",
       "    </tr>\n",
       "    <tr>\n",
       "      <th>68199</th>\n",
       "      <td>0</td>\n",
       "      <td>0</td>\n",
       "      <td>1</td>\n",
       "      <td>0</td>\n",
       "      <td>0</td>\n",
       "      <td>0</td>\n",
       "      <td>0</td>\n",
       "      <td>0</td>\n",
       "      <td>1</td>\n",
       "      <td>0</td>\n",
       "      <td>...</td>\n",
       "      <td>0.881231</td>\n",
       "      <td>-0.178941</td>\n",
       "      <td>-0.244508</td>\n",
       "      <td>-0.239601</td>\n",
       "      <td>-0.221614</td>\n",
       "      <td>-0.159611</td>\n",
       "      <td>-0.542685</td>\n",
       "      <td>0.643204</td>\n",
       "      <td>-0.361626</td>\n",
       "      <td>0</td>\n",
       "    </tr>\n",
       "    <tr>\n",
       "      <th>130363</th>\n",
       "      <td>0</td>\n",
       "      <td>1</td>\n",
       "      <td>0</td>\n",
       "      <td>0</td>\n",
       "      <td>0</td>\n",
       "      <td>0</td>\n",
       "      <td>0</td>\n",
       "      <td>0</td>\n",
       "      <td>1</td>\n",
       "      <td>0</td>\n",
       "      <td>...</td>\n",
       "      <td>-0.871406</td>\n",
       "      <td>-0.178933</td>\n",
       "      <td>-0.241448</td>\n",
       "      <td>-0.239463</td>\n",
       "      <td>-0.222830</td>\n",
       "      <td>-0.159270</td>\n",
       "      <td>0.363285</td>\n",
       "      <td>0.214765</td>\n",
       "      <td>-0.229638</td>\n",
       "      <td>0</td>\n",
       "    </tr>\n",
       "    <tr>\n",
       "      <th>162427</th>\n",
       "      <td>0</td>\n",
       "      <td>0</td>\n",
       "      <td>0</td>\n",
       "      <td>0</td>\n",
       "      <td>0</td>\n",
       "      <td>0</td>\n",
       "      <td>1</td>\n",
       "      <td>0</td>\n",
       "      <td>1</td>\n",
       "      <td>0</td>\n",
       "      <td>...</td>\n",
       "      <td>0.882289</td>\n",
       "      <td>-0.178940</td>\n",
       "      <td>-0.244177</td>\n",
       "      <td>-0.239452</td>\n",
       "      <td>-0.221581</td>\n",
       "      <td>-0.159618</td>\n",
       "      <td>-0.434353</td>\n",
       "      <td>0.618959</td>\n",
       "      <td>-0.355394</td>\n",
       "      <td>0</td>\n",
       "    </tr>\n",
       "    <tr>\n",
       "      <th>197377</th>\n",
       "      <td>0</td>\n",
       "      <td>1</td>\n",
       "      <td>0</td>\n",
       "      <td>0</td>\n",
       "      <td>0</td>\n",
       "      <td>0</td>\n",
       "      <td>0</td>\n",
       "      <td>0</td>\n",
       "      <td>1</td>\n",
       "      <td>0</td>\n",
       "      <td>...</td>\n",
       "      <td>0.898461</td>\n",
       "      <td>-0.178940</td>\n",
       "      <td>-0.244234</td>\n",
       "      <td>-0.240188</td>\n",
       "      <td>-0.221618</td>\n",
       "      <td>-0.159629</td>\n",
       "      <td>-0.859967</td>\n",
       "      <td>0.445261</td>\n",
       "      <td>-0.304487</td>\n",
       "      <td>0</td>\n",
       "    </tr>\n",
       "    <tr>\n",
       "      <th>...</th>\n",
       "      <td>...</td>\n",
       "      <td>...</td>\n",
       "      <td>...</td>\n",
       "      <td>...</td>\n",
       "      <td>...</td>\n",
       "      <td>...</td>\n",
       "      <td>...</td>\n",
       "      <td>...</td>\n",
       "      <td>...</td>\n",
       "      <td>...</td>\n",
       "      <td>...</td>\n",
       "      <td>...</td>\n",
       "      <td>...</td>\n",
       "      <td>...</td>\n",
       "      <td>...</td>\n",
       "      <td>...</td>\n",
       "      <td>...</td>\n",
       "      <td>...</td>\n",
       "      <td>...</td>\n",
       "      <td>...</td>\n",
       "      <td>...</td>\n",
       "    </tr>\n",
       "    <tr>\n",
       "      <th>177444</th>\n",
       "      <td>0</td>\n",
       "      <td>1</td>\n",
       "      <td>0</td>\n",
       "      <td>0</td>\n",
       "      <td>0</td>\n",
       "      <td>0</td>\n",
       "      <td>0</td>\n",
       "      <td>0</td>\n",
       "      <td>1</td>\n",
       "      <td>0</td>\n",
       "      <td>...</td>\n",
       "      <td>-1.022086</td>\n",
       "      <td>5.356623</td>\n",
       "      <td>5.478379</td>\n",
       "      <td>3.598343</td>\n",
       "      <td>4.540283</td>\n",
       "      <td>-0.159634</td>\n",
       "      <td>-0.808145</td>\n",
       "      <td>0.510802</td>\n",
       "      <td>-0.325096</td>\n",
       "      <td>0</td>\n",
       "    </tr>\n",
       "    <tr>\n",
       "      <th>74758</th>\n",
       "      <td>0</td>\n",
       "      <td>0</td>\n",
       "      <td>0</td>\n",
       "      <td>0</td>\n",
       "      <td>0</td>\n",
       "      <td>1</td>\n",
       "      <td>0</td>\n",
       "      <td>0</td>\n",
       "      <td>0</td>\n",
       "      <td>0</td>\n",
       "      <td>...</td>\n",
       "      <td>0.437349</td>\n",
       "      <td>-0.178941</td>\n",
       "      <td>-0.244718</td>\n",
       "      <td>-0.240397</td>\n",
       "      <td>-0.222224</td>\n",
       "      <td>-0.159625</td>\n",
       "      <td>-0.634521</td>\n",
       "      <td>0.470405</td>\n",
       "      <td>-0.313237</td>\n",
       "      <td>0</td>\n",
       "    </tr>\n",
       "    <tr>\n",
       "      <th>67960</th>\n",
       "      <td>0</td>\n",
       "      <td>0</td>\n",
       "      <td>0</td>\n",
       "      <td>1</td>\n",
       "      <td>0</td>\n",
       "      <td>0</td>\n",
       "      <td>0</td>\n",
       "      <td>0</td>\n",
       "      <td>1</td>\n",
       "      <td>0</td>\n",
       "      <td>...</td>\n",
       "      <td>-0.370380</td>\n",
       "      <td>-0.156436</td>\n",
       "      <td>0.115073</td>\n",
       "      <td>-0.155854</td>\n",
       "      <td>-0.221412</td>\n",
       "      <td>-0.159625</td>\n",
       "      <td>1.052107</td>\n",
       "      <td>-0.143501</td>\n",
       "      <td>0.221870</td>\n",
       "      <td>0</td>\n",
       "    </tr>\n",
       "    <tr>\n",
       "      <th>84250</th>\n",
       "      <td>0</td>\n",
       "      <td>1</td>\n",
       "      <td>0</td>\n",
       "      <td>0</td>\n",
       "      <td>0</td>\n",
       "      <td>0</td>\n",
       "      <td>0</td>\n",
       "      <td>0</td>\n",
       "      <td>1</td>\n",
       "      <td>0</td>\n",
       "      <td>...</td>\n",
       "      <td>1.146730</td>\n",
       "      <td>-0.053332</td>\n",
       "      <td>0.612724</td>\n",
       "      <td>-0.113581</td>\n",
       "      <td>-0.221596</td>\n",
       "      <td>-0.159624</td>\n",
       "      <td>0.759412</td>\n",
       "      <td>-0.280718</td>\n",
       "      <td>0.731200</td>\n",
       "      <td>0</td>\n",
       "    </tr>\n",
       "    <tr>\n",
       "      <th>44909</th>\n",
       "      <td>1</td>\n",
       "      <td>0</td>\n",
       "      <td>0</td>\n",
       "      <td>0</td>\n",
       "      <td>0</td>\n",
       "      <td>0</td>\n",
       "      <td>0</td>\n",
       "      <td>0</td>\n",
       "      <td>0</td>\n",
       "      <td>0</td>\n",
       "      <td>...</td>\n",
       "      <td>0.955149</td>\n",
       "      <td>-0.178939</td>\n",
       "      <td>-0.243591</td>\n",
       "      <td>-0.239964</td>\n",
       "      <td>-0.221632</td>\n",
       "      <td>-0.159619</td>\n",
       "      <td>-0.623263</td>\n",
       "      <td>0.401980</td>\n",
       "      <td>-0.289705</td>\n",
       "      <td>0</td>\n",
       "    </tr>\n",
       "  </tbody>\n",
       "</table>\n",
       "<p>269643 rows × 45 columns</p>\n",
       "</div>"
      ],
      "text/plain": [
       "        ip_1  ip_144  ip_204  ip_205  ip_207  ip_8  not_freq  ip_4  ip_11  \\\n",
       "136084     0       0       0       0       0     0         1     0      0   \n",
       "68199      0       0       1       0       0     0         0     0      1   \n",
       "130363     0       1       0       0       0     0         0     0      1   \n",
       "162427     0       0       0       0       0     0         1     0      1   \n",
       "197377     0       1       0       0       0     0         0     0      1   \n",
       "...      ...     ...     ...     ...     ...   ...       ...   ...    ...   \n",
       "177444     0       1       0       0       0     0         0     0      1   \n",
       "74758      0       0       0       0       0     1         0     0      0   \n",
       "67960      0       0       0       1       0     0         0     0      1   \n",
       "84250      0       1       0       0       0     0         0     0      1   \n",
       "44909      1       0       0       0       0     0         0     0      0   \n",
       "\n",
       "        dest_ip_130_1_8  ...         0  r_time_var  r_time_std  r_time_mean  \\\n",
       "136084                1  ... -0.926752   -0.178917   -0.237048    -0.239838   \n",
       "68199                 0  ...  0.881231   -0.178941   -0.244508    -0.239601   \n",
       "130363                0  ... -0.871406   -0.178933   -0.241448    -0.239463   \n",
       "162427                0  ...  0.882289   -0.178940   -0.244177    -0.239452   \n",
       "197377                0  ...  0.898461   -0.178940   -0.244234    -0.240188   \n",
       "...                 ...  ...       ...         ...         ...          ...   \n",
       "177444                0  ... -1.022086    5.356623    5.478379     3.598343   \n",
       "74758                 0  ...  0.437349   -0.178941   -0.244718    -0.240397   \n",
       "67960                 0  ... -0.370380   -0.156436    0.115073    -0.155854   \n",
       "84250                 0  ...  1.146730   -0.053332    0.612724    -0.113581   \n",
       "44909                 0  ...  0.955149   -0.178939   -0.243591    -0.239964   \n",
       "\n",
       "        r_time_med  r_time_mode  r_s_med_time  r_s_mode_time  r_c_time  Benign  \n",
       "136084   -0.226448    -0.159619      1.363765      -0.036417  0.026988       0  \n",
       "68199    -0.221614    -0.159611     -0.542685       0.643204 -0.361626       0  \n",
       "130363   -0.222830    -0.159270      0.363285       0.214765 -0.229638       0  \n",
       "162427   -0.221581    -0.159618     -0.434353       0.618959 -0.355394       0  \n",
       "197377   -0.221618    -0.159629     -0.859967       0.445261 -0.304487       0  \n",
       "...            ...          ...           ...            ...       ...     ...  \n",
       "177444    4.540283    -0.159634     -0.808145       0.510802 -0.325096       0  \n",
       "74758    -0.222224    -0.159625     -0.634521       0.470405 -0.313237       0  \n",
       "67960    -0.221412    -0.159625      1.052107      -0.143501  0.221870       0  \n",
       "84250    -0.221596    -0.159624      0.759412      -0.280718  0.731200       0  \n",
       "44909    -0.221632    -0.159619     -0.623263       0.401980 -0.289705       0  \n",
       "\n",
       "[269643 rows x 45 columns]"
      ]
     },
     "execution_count": 139,
     "metadata": {},
     "output_type": "execute_result"
    }
   ],
   "source": [
    "db_create.drop('Malicious' , axis=1)"
   ]
  },
  {
   "cell_type": "code",
   "execution_count": 140,
   "metadata": {},
   "outputs": [],
   "source": [
    "db_create['Benign'] = db_create['Benign'].replace(['1'],'Benign')\n",
    "db_create['Benign'] = db_create['Benign'].replace (['0'],'Malicious')"
   ]
  },
  {
   "cell_type": "code",
   "execution_count": 141,
   "metadata": {},
   "outputs": [
    {
     "data": {
      "text/html": [
       "<div>\n",
       "<style scoped>\n",
       "    .dataframe tbody tr th:only-of-type {\n",
       "        vertical-align: middle;\n",
       "    }\n",
       "\n",
       "    .dataframe tbody tr th {\n",
       "        vertical-align: top;\n",
       "    }\n",
       "\n",
       "    .dataframe thead th {\n",
       "        text-align: right;\n",
       "    }\n",
       "</style>\n",
       "<table border=\"1\" class=\"dataframe\">\n",
       "  <thead>\n",
       "    <tr style=\"text-align: right;\">\n",
       "      <th></th>\n",
       "      <th>ip_1</th>\n",
       "      <th>ip_144</th>\n",
       "      <th>ip_204</th>\n",
       "      <th>ip_205</th>\n",
       "      <th>ip_207</th>\n",
       "      <th>ip_8</th>\n",
       "      <th>not_freq</th>\n",
       "      <th>ip_4</th>\n",
       "      <th>ip_11</th>\n",
       "      <th>dest_ip_130_1_8</th>\n",
       "      <th>...</th>\n",
       "      <th>r_time_var</th>\n",
       "      <th>r_time_std</th>\n",
       "      <th>r_time_mean</th>\n",
       "      <th>r_time_med</th>\n",
       "      <th>r_time_mode</th>\n",
       "      <th>r_s_med_time</th>\n",
       "      <th>r_s_mode_time</th>\n",
       "      <th>r_c_time</th>\n",
       "      <th>Benign</th>\n",
       "      <th>Malicious</th>\n",
       "    </tr>\n",
       "  </thead>\n",
       "  <tbody>\n",
       "    <tr>\n",
       "      <th>136084</th>\n",
       "      <td>0</td>\n",
       "      <td>0</td>\n",
       "      <td>0</td>\n",
       "      <td>0</td>\n",
       "      <td>0</td>\n",
       "      <td>0</td>\n",
       "      <td>1</td>\n",
       "      <td>0</td>\n",
       "      <td>0</td>\n",
       "      <td>1</td>\n",
       "      <td>...</td>\n",
       "      <td>-0.178917</td>\n",
       "      <td>-0.237048</td>\n",
       "      <td>-0.239838</td>\n",
       "      <td>-0.226448</td>\n",
       "      <td>-0.159619</td>\n",
       "      <td>1.363765</td>\n",
       "      <td>-0.036417</td>\n",
       "      <td>0.026988</td>\n",
       "      <td>0</td>\n",
       "      <td>1</td>\n",
       "    </tr>\n",
       "    <tr>\n",
       "      <th>68199</th>\n",
       "      <td>0</td>\n",
       "      <td>0</td>\n",
       "      <td>1</td>\n",
       "      <td>0</td>\n",
       "      <td>0</td>\n",
       "      <td>0</td>\n",
       "      <td>0</td>\n",
       "      <td>0</td>\n",
       "      <td>1</td>\n",
       "      <td>0</td>\n",
       "      <td>...</td>\n",
       "      <td>-0.178941</td>\n",
       "      <td>-0.244508</td>\n",
       "      <td>-0.239601</td>\n",
       "      <td>-0.221614</td>\n",
       "      <td>-0.159611</td>\n",
       "      <td>-0.542685</td>\n",
       "      <td>0.643204</td>\n",
       "      <td>-0.361626</td>\n",
       "      <td>0</td>\n",
       "      <td>1</td>\n",
       "    </tr>\n",
       "    <tr>\n",
       "      <th>130363</th>\n",
       "      <td>0</td>\n",
       "      <td>1</td>\n",
       "      <td>0</td>\n",
       "      <td>0</td>\n",
       "      <td>0</td>\n",
       "      <td>0</td>\n",
       "      <td>0</td>\n",
       "      <td>0</td>\n",
       "      <td>1</td>\n",
       "      <td>0</td>\n",
       "      <td>...</td>\n",
       "      <td>-0.178933</td>\n",
       "      <td>-0.241448</td>\n",
       "      <td>-0.239463</td>\n",
       "      <td>-0.222830</td>\n",
       "      <td>-0.159270</td>\n",
       "      <td>0.363285</td>\n",
       "      <td>0.214765</td>\n",
       "      <td>-0.229638</td>\n",
       "      <td>0</td>\n",
       "      <td>1</td>\n",
       "    </tr>\n",
       "    <tr>\n",
       "      <th>162427</th>\n",
       "      <td>0</td>\n",
       "      <td>0</td>\n",
       "      <td>0</td>\n",
       "      <td>0</td>\n",
       "      <td>0</td>\n",
       "      <td>0</td>\n",
       "      <td>1</td>\n",
       "      <td>0</td>\n",
       "      <td>1</td>\n",
       "      <td>0</td>\n",
       "      <td>...</td>\n",
       "      <td>-0.178940</td>\n",
       "      <td>-0.244177</td>\n",
       "      <td>-0.239452</td>\n",
       "      <td>-0.221581</td>\n",
       "      <td>-0.159618</td>\n",
       "      <td>-0.434353</td>\n",
       "      <td>0.618959</td>\n",
       "      <td>-0.355394</td>\n",
       "      <td>0</td>\n",
       "      <td>1</td>\n",
       "    </tr>\n",
       "    <tr>\n",
       "      <th>197377</th>\n",
       "      <td>0</td>\n",
       "      <td>1</td>\n",
       "      <td>0</td>\n",
       "      <td>0</td>\n",
       "      <td>0</td>\n",
       "      <td>0</td>\n",
       "      <td>0</td>\n",
       "      <td>0</td>\n",
       "      <td>1</td>\n",
       "      <td>0</td>\n",
       "      <td>...</td>\n",
       "      <td>-0.178940</td>\n",
       "      <td>-0.244234</td>\n",
       "      <td>-0.240188</td>\n",
       "      <td>-0.221618</td>\n",
       "      <td>-0.159629</td>\n",
       "      <td>-0.859967</td>\n",
       "      <td>0.445261</td>\n",
       "      <td>-0.304487</td>\n",
       "      <td>0</td>\n",
       "      <td>1</td>\n",
       "    </tr>\n",
       "  </tbody>\n",
       "</table>\n",
       "<p>5 rows × 46 columns</p>\n",
       "</div>"
      ],
      "text/plain": [
       "        ip_1  ip_144  ip_204  ip_205  ip_207  ip_8  not_freq  ip_4  ip_11  \\\n",
       "136084     0       0       0       0       0     0         1     0      0   \n",
       "68199      0       0       1       0       0     0         0     0      1   \n",
       "130363     0       1       0       0       0     0         0     0      1   \n",
       "162427     0       0       0       0       0     0         1     0      1   \n",
       "197377     0       1       0       0       0     0         0     0      1   \n",
       "\n",
       "        dest_ip_130_1_8  ...  r_time_var  r_time_std  r_time_mean  r_time_med  \\\n",
       "136084                1  ...   -0.178917   -0.237048    -0.239838   -0.226448   \n",
       "68199                 0  ...   -0.178941   -0.244508    -0.239601   -0.221614   \n",
       "130363                0  ...   -0.178933   -0.241448    -0.239463   -0.222830   \n",
       "162427                0  ...   -0.178940   -0.244177    -0.239452   -0.221581   \n",
       "197377                0  ...   -0.178940   -0.244234    -0.240188   -0.221618   \n",
       "\n",
       "        r_time_mode  r_s_med_time  r_s_mode_time  r_c_time  Benign  Malicious  \n",
       "136084    -0.159619      1.363765      -0.036417  0.026988       0          1  \n",
       "68199     -0.159611     -0.542685       0.643204 -0.361626       0          1  \n",
       "130363    -0.159270      0.363285       0.214765 -0.229638       0          1  \n",
       "162427    -0.159618     -0.434353       0.618959 -0.355394       0          1  \n",
       "197377    -0.159629     -0.859967       0.445261 -0.304487       0          1  \n",
       "\n",
       "[5 rows x 46 columns]"
      ]
     },
     "execution_count": 141,
     "metadata": {},
     "output_type": "execute_result"
    }
   ],
   "source": [
    "db_create.head()"
   ]
  },
  {
   "cell_type": "code",
   "execution_count": 142,
   "metadata": {},
   "outputs": [
    {
     "data": {
      "text/html": [
       "<div>\n",
       "<style scoped>\n",
       "    .dataframe tbody tr th:only-of-type {\n",
       "        vertical-align: middle;\n",
       "    }\n",
       "\n",
       "    .dataframe tbody tr th {\n",
       "        vertical-align: top;\n",
       "    }\n",
       "\n",
       "    .dataframe thead th {\n",
       "        text-align: right;\n",
       "    }\n",
       "</style>\n",
       "<table border=\"1\" class=\"dataframe\">\n",
       "  <thead>\n",
       "    <tr style=\"text-align: right;\">\n",
       "      <th></th>\n",
       "      <th>ip_1</th>\n",
       "      <th>ip_144</th>\n",
       "      <th>ip_204</th>\n",
       "      <th>ip_205</th>\n",
       "      <th>ip_207</th>\n",
       "      <th>ip_8</th>\n",
       "      <th>not_freq</th>\n",
       "      <th>ip_4</th>\n",
       "      <th>ip_11</th>\n",
       "      <th>dest_ip_130_1_8</th>\n",
       "      <th>...</th>\n",
       "      <th>r_time_var</th>\n",
       "      <th>r_time_std</th>\n",
       "      <th>r_time_mean</th>\n",
       "      <th>r_time_med</th>\n",
       "      <th>r_time_mode</th>\n",
       "      <th>r_s_med_time</th>\n",
       "      <th>r_s_mode_time</th>\n",
       "      <th>r_c_time</th>\n",
       "      <th>Benign</th>\n",
       "      <th>Malicious</th>\n",
       "    </tr>\n",
       "  </thead>\n",
       "  <tbody>\n",
       "    <tr>\n",
       "      <th>136084</th>\n",
       "      <td>0</td>\n",
       "      <td>0</td>\n",
       "      <td>0</td>\n",
       "      <td>0</td>\n",
       "      <td>0</td>\n",
       "      <td>0</td>\n",
       "      <td>1</td>\n",
       "      <td>0</td>\n",
       "      <td>0</td>\n",
       "      <td>1</td>\n",
       "      <td>...</td>\n",
       "      <td>-0.178917</td>\n",
       "      <td>-0.237048</td>\n",
       "      <td>-0.239838</td>\n",
       "      <td>-0.226448</td>\n",
       "      <td>-0.159619</td>\n",
       "      <td>1.363765</td>\n",
       "      <td>-0.036417</td>\n",
       "      <td>0.026988</td>\n",
       "      <td>0</td>\n",
       "      <td>1</td>\n",
       "    </tr>\n",
       "    <tr>\n",
       "      <th>68199</th>\n",
       "      <td>0</td>\n",
       "      <td>0</td>\n",
       "      <td>1</td>\n",
       "      <td>0</td>\n",
       "      <td>0</td>\n",
       "      <td>0</td>\n",
       "      <td>0</td>\n",
       "      <td>0</td>\n",
       "      <td>1</td>\n",
       "      <td>0</td>\n",
       "      <td>...</td>\n",
       "      <td>-0.178941</td>\n",
       "      <td>-0.244508</td>\n",
       "      <td>-0.239601</td>\n",
       "      <td>-0.221614</td>\n",
       "      <td>-0.159611</td>\n",
       "      <td>-0.542685</td>\n",
       "      <td>0.643204</td>\n",
       "      <td>-0.361626</td>\n",
       "      <td>0</td>\n",
       "      <td>1</td>\n",
       "    </tr>\n",
       "    <tr>\n",
       "      <th>130363</th>\n",
       "      <td>0</td>\n",
       "      <td>1</td>\n",
       "      <td>0</td>\n",
       "      <td>0</td>\n",
       "      <td>0</td>\n",
       "      <td>0</td>\n",
       "      <td>0</td>\n",
       "      <td>0</td>\n",
       "      <td>1</td>\n",
       "      <td>0</td>\n",
       "      <td>...</td>\n",
       "      <td>-0.178933</td>\n",
       "      <td>-0.241448</td>\n",
       "      <td>-0.239463</td>\n",
       "      <td>-0.222830</td>\n",
       "      <td>-0.159270</td>\n",
       "      <td>0.363285</td>\n",
       "      <td>0.214765</td>\n",
       "      <td>-0.229638</td>\n",
       "      <td>0</td>\n",
       "      <td>1</td>\n",
       "    </tr>\n",
       "    <tr>\n",
       "      <th>162427</th>\n",
       "      <td>0</td>\n",
       "      <td>0</td>\n",
       "      <td>0</td>\n",
       "      <td>0</td>\n",
       "      <td>0</td>\n",
       "      <td>0</td>\n",
       "      <td>1</td>\n",
       "      <td>0</td>\n",
       "      <td>1</td>\n",
       "      <td>0</td>\n",
       "      <td>...</td>\n",
       "      <td>-0.178940</td>\n",
       "      <td>-0.244177</td>\n",
       "      <td>-0.239452</td>\n",
       "      <td>-0.221581</td>\n",
       "      <td>-0.159618</td>\n",
       "      <td>-0.434353</td>\n",
       "      <td>0.618959</td>\n",
       "      <td>-0.355394</td>\n",
       "      <td>0</td>\n",
       "      <td>1</td>\n",
       "    </tr>\n",
       "    <tr>\n",
       "      <th>197377</th>\n",
       "      <td>0</td>\n",
       "      <td>1</td>\n",
       "      <td>0</td>\n",
       "      <td>0</td>\n",
       "      <td>0</td>\n",
       "      <td>0</td>\n",
       "      <td>0</td>\n",
       "      <td>0</td>\n",
       "      <td>1</td>\n",
       "      <td>0</td>\n",
       "      <td>...</td>\n",
       "      <td>-0.178940</td>\n",
       "      <td>-0.244234</td>\n",
       "      <td>-0.240188</td>\n",
       "      <td>-0.221618</td>\n",
       "      <td>-0.159629</td>\n",
       "      <td>-0.859967</td>\n",
       "      <td>0.445261</td>\n",
       "      <td>-0.304487</td>\n",
       "      <td>0</td>\n",
       "      <td>1</td>\n",
       "    </tr>\n",
       "  </tbody>\n",
       "</table>\n",
       "<p>5 rows × 46 columns</p>\n",
       "</div>"
      ],
      "text/plain": [
       "        ip_1  ip_144  ip_204  ip_205  ip_207  ip_8  not_freq  ip_4  ip_11  \\\n",
       "136084     0       0       0       0       0     0         1     0      0   \n",
       "68199      0       0       1       0       0     0         0     0      1   \n",
       "130363     0       1       0       0       0     0         0     0      1   \n",
       "162427     0       0       0       0       0     0         1     0      1   \n",
       "197377     0       1       0       0       0     0         0     0      1   \n",
       "\n",
       "        dest_ip_130_1_8  ...  r_time_var  r_time_std  r_time_mean  r_time_med  \\\n",
       "136084                1  ...   -0.178917   -0.237048    -0.239838   -0.226448   \n",
       "68199                 0  ...   -0.178941   -0.244508    -0.239601   -0.221614   \n",
       "130363                0  ...   -0.178933   -0.241448    -0.239463   -0.222830   \n",
       "162427                0  ...   -0.178940   -0.244177    -0.239452   -0.221581   \n",
       "197377                0  ...   -0.178940   -0.244234    -0.240188   -0.221618   \n",
       "\n",
       "        r_time_mode  r_s_med_time  r_s_mode_time  r_c_time  Benign  Malicious  \n",
       "136084    -0.159619      1.363765      -0.036417  0.026988       0          1  \n",
       "68199     -0.159611     -0.542685       0.643204 -0.361626       0          1  \n",
       "130363    -0.159270      0.363285       0.214765 -0.229638       0          1  \n",
       "162427    -0.159618     -0.434353       0.618959 -0.355394       0          1  \n",
       "197377    -0.159629     -0.859967       0.445261 -0.304487       0          1  \n",
       "\n",
       "[5 rows x 46 columns]"
      ]
     },
     "execution_count": 142,
     "metadata": {},
     "output_type": "execute_result"
    }
   ],
   "source": [
    "db_create.head()\n"
   ]
  },
  {
   "cell_type": "code",
   "execution_count": 143,
   "metadata": {},
   "outputs": [],
   "source": [
    "db_create.drop('Malicious' , inplace=True , axis=1)"
   ]
  },
  {
   "cell_type": "code",
   "execution_count": 144,
   "metadata": {},
   "outputs": [
    {
     "data": {
      "text/html": [
       "<div>\n",
       "<style scoped>\n",
       "    .dataframe tbody tr th:only-of-type {\n",
       "        vertical-align: middle;\n",
       "    }\n",
       "\n",
       "    .dataframe tbody tr th {\n",
       "        vertical-align: top;\n",
       "    }\n",
       "\n",
       "    .dataframe thead th {\n",
       "        text-align: right;\n",
       "    }\n",
       "</style>\n",
       "<table border=\"1\" class=\"dataframe\">\n",
       "  <thead>\n",
       "    <tr style=\"text-align: right;\">\n",
       "      <th></th>\n",
       "      <th>ip_1</th>\n",
       "      <th>ip_144</th>\n",
       "      <th>ip_204</th>\n",
       "      <th>ip_205</th>\n",
       "      <th>ip_207</th>\n",
       "      <th>ip_8</th>\n",
       "      <th>not_freq</th>\n",
       "      <th>ip_4</th>\n",
       "      <th>ip_11</th>\n",
       "      <th>dest_ip_130_1_8</th>\n",
       "      <th>...</th>\n",
       "      <th>0</th>\n",
       "      <th>r_time_var</th>\n",
       "      <th>r_time_std</th>\n",
       "      <th>r_time_mean</th>\n",
       "      <th>r_time_med</th>\n",
       "      <th>r_time_mode</th>\n",
       "      <th>r_s_med_time</th>\n",
       "      <th>r_s_mode_time</th>\n",
       "      <th>r_c_time</th>\n",
       "      <th>Benign</th>\n",
       "    </tr>\n",
       "  </thead>\n",
       "  <tbody>\n",
       "    <tr>\n",
       "      <th>136084</th>\n",
       "      <td>0</td>\n",
       "      <td>0</td>\n",
       "      <td>0</td>\n",
       "      <td>0</td>\n",
       "      <td>0</td>\n",
       "      <td>0</td>\n",
       "      <td>1</td>\n",
       "      <td>0</td>\n",
       "      <td>0</td>\n",
       "      <td>1</td>\n",
       "      <td>...</td>\n",
       "      <td>-0.926752</td>\n",
       "      <td>-0.178917</td>\n",
       "      <td>-0.237048</td>\n",
       "      <td>-0.239838</td>\n",
       "      <td>-0.226448</td>\n",
       "      <td>-0.159619</td>\n",
       "      <td>1.363765</td>\n",
       "      <td>-0.036417</td>\n",
       "      <td>0.026988</td>\n",
       "      <td>0</td>\n",
       "    </tr>\n",
       "    <tr>\n",
       "      <th>68199</th>\n",
       "      <td>0</td>\n",
       "      <td>0</td>\n",
       "      <td>1</td>\n",
       "      <td>0</td>\n",
       "      <td>0</td>\n",
       "      <td>0</td>\n",
       "      <td>0</td>\n",
       "      <td>0</td>\n",
       "      <td>1</td>\n",
       "      <td>0</td>\n",
       "      <td>...</td>\n",
       "      <td>0.881231</td>\n",
       "      <td>-0.178941</td>\n",
       "      <td>-0.244508</td>\n",
       "      <td>-0.239601</td>\n",
       "      <td>-0.221614</td>\n",
       "      <td>-0.159611</td>\n",
       "      <td>-0.542685</td>\n",
       "      <td>0.643204</td>\n",
       "      <td>-0.361626</td>\n",
       "      <td>0</td>\n",
       "    </tr>\n",
       "    <tr>\n",
       "      <th>130363</th>\n",
       "      <td>0</td>\n",
       "      <td>1</td>\n",
       "      <td>0</td>\n",
       "      <td>0</td>\n",
       "      <td>0</td>\n",
       "      <td>0</td>\n",
       "      <td>0</td>\n",
       "      <td>0</td>\n",
       "      <td>1</td>\n",
       "      <td>0</td>\n",
       "      <td>...</td>\n",
       "      <td>-0.871406</td>\n",
       "      <td>-0.178933</td>\n",
       "      <td>-0.241448</td>\n",
       "      <td>-0.239463</td>\n",
       "      <td>-0.222830</td>\n",
       "      <td>-0.159270</td>\n",
       "      <td>0.363285</td>\n",
       "      <td>0.214765</td>\n",
       "      <td>-0.229638</td>\n",
       "      <td>0</td>\n",
       "    </tr>\n",
       "    <tr>\n",
       "      <th>162427</th>\n",
       "      <td>0</td>\n",
       "      <td>0</td>\n",
       "      <td>0</td>\n",
       "      <td>0</td>\n",
       "      <td>0</td>\n",
       "      <td>0</td>\n",
       "      <td>1</td>\n",
       "      <td>0</td>\n",
       "      <td>1</td>\n",
       "      <td>0</td>\n",
       "      <td>...</td>\n",
       "      <td>0.882289</td>\n",
       "      <td>-0.178940</td>\n",
       "      <td>-0.244177</td>\n",
       "      <td>-0.239452</td>\n",
       "      <td>-0.221581</td>\n",
       "      <td>-0.159618</td>\n",
       "      <td>-0.434353</td>\n",
       "      <td>0.618959</td>\n",
       "      <td>-0.355394</td>\n",
       "      <td>0</td>\n",
       "    </tr>\n",
       "    <tr>\n",
       "      <th>197377</th>\n",
       "      <td>0</td>\n",
       "      <td>1</td>\n",
       "      <td>0</td>\n",
       "      <td>0</td>\n",
       "      <td>0</td>\n",
       "      <td>0</td>\n",
       "      <td>0</td>\n",
       "      <td>0</td>\n",
       "      <td>1</td>\n",
       "      <td>0</td>\n",
       "      <td>...</td>\n",
       "      <td>0.898461</td>\n",
       "      <td>-0.178940</td>\n",
       "      <td>-0.244234</td>\n",
       "      <td>-0.240188</td>\n",
       "      <td>-0.221618</td>\n",
       "      <td>-0.159629</td>\n",
       "      <td>-0.859967</td>\n",
       "      <td>0.445261</td>\n",
       "      <td>-0.304487</td>\n",
       "      <td>0</td>\n",
       "    </tr>\n",
       "  </tbody>\n",
       "</table>\n",
       "<p>5 rows × 45 columns</p>\n",
       "</div>"
      ],
      "text/plain": [
       "        ip_1  ip_144  ip_204  ip_205  ip_207  ip_8  not_freq  ip_4  ip_11  \\\n",
       "136084     0       0       0       0       0     0         1     0      0   \n",
       "68199      0       0       1       0       0     0         0     0      1   \n",
       "130363     0       1       0       0       0     0         0     0      1   \n",
       "162427     0       0       0       0       0     0         1     0      1   \n",
       "197377     0       1       0       0       0     0         0     0      1   \n",
       "\n",
       "        dest_ip_130_1_8  ...         0  r_time_var  r_time_std  r_time_mean  \\\n",
       "136084                1  ... -0.926752   -0.178917   -0.237048    -0.239838   \n",
       "68199                 0  ...  0.881231   -0.178941   -0.244508    -0.239601   \n",
       "130363                0  ... -0.871406   -0.178933   -0.241448    -0.239463   \n",
       "162427                0  ...  0.882289   -0.178940   -0.244177    -0.239452   \n",
       "197377                0  ...  0.898461   -0.178940   -0.244234    -0.240188   \n",
       "\n",
       "        r_time_med  r_time_mode  r_s_med_time  r_s_mode_time  r_c_time  Benign  \n",
       "136084   -0.226448    -0.159619      1.363765      -0.036417  0.026988       0  \n",
       "68199    -0.221614    -0.159611     -0.542685       0.643204 -0.361626       0  \n",
       "130363   -0.222830    -0.159270      0.363285       0.214765 -0.229638       0  \n",
       "162427   -0.221581    -0.159618     -0.434353       0.618959 -0.355394       0  \n",
       "197377   -0.221618    -0.159629     -0.859967       0.445261 -0.304487       0  \n",
       "\n",
       "[5 rows x 45 columns]"
      ]
     },
     "execution_count": 144,
     "metadata": {},
     "output_type": "execute_result"
    }
   ],
   "source": [
    "db_create.head()"
   ]
  },
  {
   "cell_type": "code",
   "execution_count": 145,
   "metadata": {},
   "outputs": [],
   "source": [
    "db_create.to_csv(r'E:\\VIT\\F2-ISM\\REVIEW 2\\REVIEW 2\\final_data_input_FINAL_Semifinal.csv')"
   ]
  }
 ],
 "metadata": {
  "kernelspec": {
   "display_name": "Python 3",
   "language": "python",
   "name": "python3"
  },
  "language_info": {
   "codemirror_mode": {
    "name": "ipython",
    "version": 3
   },
   "file_extension": ".py",
   "mimetype": "text/x-python",
   "name": "python",
   "nbconvert_exporter": "python",
   "pygments_lexer": "ipython3",
   "version": "3.9.13"
  }
 },
 "nbformat": 4,
 "nbformat_minor": 4
}
